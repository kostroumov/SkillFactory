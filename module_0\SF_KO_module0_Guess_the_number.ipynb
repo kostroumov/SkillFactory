{
  "nbformat": 4,
  "nbformat_minor": 0,
  "metadata": {
    "colab": {
      "name": "SF_KO_module0_Guess_the_number",
      "provenance": [],
      "authorship_tag": "ABX9TyMpciZ1ZqCB3t00VKhQl5jK",
      "include_colab_link": true
    },
    "kernelspec": {
      "name": "python3",
      "display_name": "Python 3"
    },
    "language_info": {
      "name": "python"
    }
  },
  "cells": [
    {
      "cell_type": "markdown",
      "metadata": {
        "id": "view-in-github",
        "colab_type": "text"
      },
      "source": [
        "<a href=\"https://colab.research.google.com/github/kostroumov/SkillFactory/blob/main/module_0%5CSF_KO_module0_Guess_the_number.ipynb\" target=\"_parent\"><img src=\"https://colab.research.google.com/assets/colab-badge.svg\" alt=\"Open In Colab\"/></a>"
      ]
    },
    {
      "cell_type": "code",
      "metadata": {
        "id": "8UPGwmKdkBsT"
      },
      "source": [
        "import numpy as np\n",
        "\n",
        "def score_game(game_core):\n",
        "    '''Запускаем игру 1000 раз, чтобы узнать, как быстро игра угадывает число'''\n",
        "    count_ls = []\n",
        "    np.random.seed(1)  # фиксируем RANDOM SEED, чтобы ваш эксперимент был воспроизводим!\n",
        "    random_array = np.random.randint(1,101, size=(1000))\n",
        "    for number in random_array:\n",
        "        count_ls.append(game_core(number))\n",
        "    score = int(np.mean(count_ls))\n",
        "    print(f\"Ваш алгоритм угадывает число в среднем за {score} попыток\")\n",
        "    return(score)"
      ],
      "execution_count": null,
      "outputs": []
    },
    {
      "cell_type": "code",
      "metadata": {
        "id": "El9VKSqOkyVn"
      },
      "source": [
        "def game_core_v2(number):\n",
        "    '''Сначала делим весь интервал чисел пополам, а затем последовательно сокращаем диапазон, в котором пытаемся угадать случайно-загаданное число'''\n",
        "    count = 0\n",
        "    predict = 50\n",
        "\n",
        "    range_min = []\n",
        "    range_max = []\n",
        "\n",
        "    range_min.append(1)\n",
        "    range_max.append(101)\n",
        " \n",
        "    while number != predict:\n",
        "        \n",
        "        count += 1\n",
        "        if number > predict:\n",
        "            range_min.append(predict)\n",
        "            range_max.append(range_max[count-1])\n",
        "        else:\n",
        "            range_min.append(range_min[count-1])\n",
        "            range_max.append(predict)        \n",
        "   \n",
        "        predict = np.random.randint(range_min[count-1],range_max[count-1])\n",
        "\n",
        "    return(count + 1) # выход из цикла, если угадали"
      ],
      "execution_count": null,
      "outputs": []
    },
    {
      "cell_type": "code",
      "metadata": {
        "colab": {
          "base_uri": "https://localhost:8080/"
        },
        "id": "1zFYBjK_lZ25",
        "outputId": "cad3c664-7951-4361-f763-51fc53719767"
      },
      "source": [
        "score_game(game_core_v2)"
      ],
      "execution_count": null,
      "outputs": [
        {
          "output_type": "stream",
          "text": [
            "Ваш алгоритм угадывает число в среднем за 11 попыток\n"
          ],
          "name": "stdout"
        },
        {
          "output_type": "execute_result",
          "data": {
            "text/plain": [
              "11"
            ]
          },
          "metadata": {
            "tags": []
          },
          "execution_count": 97
        }
      ]
    }
  ]
}