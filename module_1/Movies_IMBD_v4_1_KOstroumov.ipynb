{
  "nbformat": 4,
  "nbformat_minor": 0,
  "metadata": {
    "colab": {
      "name": "Movies_IMBD_v4.1_TEMPLATE.ipynb",
      "provenance": []
    },
    "kernelspec": {
      "display_name": "Python 3",
      "language": "python",
      "name": "python3"
    },
    "language_info": {
      "codemirror_mode": {
        "name": "ipython",
        "version": 3
      },
      "file_extension": ".py",
      "mimetype": "text/x-python",
      "name": "python",
      "nbconvert_exporter": "python",
      "pygments_lexer": "ipython3",
      "version": "3.8.8"
    },
    "toc-autonumbering": false,
    "toc-showcode": false,
    "toc-showmarkdowntxt": false,
    "toc-showtags": false
  },
  "cells": [
    {
      "cell_type": "code",
      "metadata": {
        "_cell_guid": "b1076dfc-b9ad-4769-8c92-a6c4dae69d19",
        "_uuid": "8f2839f25d086af736a60e9eeb907d3b93b6e0e5",
        "id": "U2D2gTdJVp90"
      },
      "source": [
        "import numpy as np\n",
        "import pandas as pd\n",
        "import seaborn as sns\n",
        "import matplotlib.pyplot as plt\n",
        "from collections import Counter"
      ],
      "execution_count": 10,
      "outputs": []
    },
    {
      "cell_type": "code",
      "metadata": {
        "_cell_guid": "79c7e3d0-c299-4dcb-8224-4455121ee9b0",
        "_uuid": "d629ff2d2480ee46fbb7e2d37f6b5fab8052498a",
        "colab": {
          "base_uri": "https://localhost:8080/",
          "height": 632
        },
        "id": "oyGfxL3eVp9-",
        "outputId": "64e2d621-ca17-473c-9620-aeda2bae5ced"
      },
      "source": [
        "url = 'https://raw.githubusercontent.com/kostroumov/SkillFactory/main/movie_bd_v5.csv'\n",
        "data = pd.read_csv(url)\n",
        "data.sample(5)"
      ],
      "execution_count": 11,
      "outputs": [
        {
          "output_type": "execute_result",
          "data": {
            "text/html": [
              "<div>\n",
              "<style scoped>\n",
              "    .dataframe tbody tr th:only-of-type {\n",
              "        vertical-align: middle;\n",
              "    }\n",
              "\n",
              "    .dataframe tbody tr th {\n",
              "        vertical-align: top;\n",
              "    }\n",
              "\n",
              "    .dataframe thead th {\n",
              "        text-align: right;\n",
              "    }\n",
              "</style>\n",
              "<table border=\"1\" class=\"dataframe\">\n",
              "  <thead>\n",
              "    <tr style=\"text-align: right;\">\n",
              "      <th></th>\n",
              "      <th>imdb_id</th>\n",
              "      <th>budget</th>\n",
              "      <th>revenue</th>\n",
              "      <th>original_title</th>\n",
              "      <th>cast</th>\n",
              "      <th>director</th>\n",
              "      <th>tagline</th>\n",
              "      <th>overview</th>\n",
              "      <th>runtime</th>\n",
              "      <th>genres</th>\n",
              "      <th>production_companies</th>\n",
              "      <th>release_date</th>\n",
              "      <th>vote_average</th>\n",
              "      <th>release_year</th>\n",
              "    </tr>\n",
              "  </thead>\n",
              "  <tbody>\n",
              "    <tr>\n",
              "      <th>1141</th>\n",
              "      <td>tt0305711</td>\n",
              "      <td>18000000</td>\n",
              "      <td>101564935</td>\n",
              "      <td>Just Married</td>\n",
              "      <td>Ashton Kutcher|Brittany Murphy|Christian Kane|...</td>\n",
              "      <td>Shawn Levy</td>\n",
              "      <td>Welcome to the honeymoon from hell.</td>\n",
              "      <td>Tom Leezak and Sarah McNerney fall in love and...</td>\n",
              "      <td>95</td>\n",
              "      <td>Comedy</td>\n",
              "      <td>Twentieth Century Fox Film Corporation|Robert ...</td>\n",
              "      <td>1/9/2003</td>\n",
              "      <td>5.3</td>\n",
              "      <td>2003</td>\n",
              "    </tr>\n",
              "    <tr>\n",
              "      <th>1094</th>\n",
              "      <td>tt0328828</td>\n",
              "      <td>55000000</td>\n",
              "      <td>231449203</td>\n",
              "      <td>American Wedding</td>\n",
              "      <td>Jason Biggs|Alyson Hannigan|Seann William Scot...</td>\n",
              "      <td>Jesse Dylan</td>\n",
              "      <td>Forever hold your piece.</td>\n",
              "      <td>With high school a distant memory, Jim and Mic...</td>\n",
              "      <td>103</td>\n",
              "      <td>Comedy|Romance</td>\n",
              "      <td>Universal Pictures|Zide-Perry Productions|Live...</td>\n",
              "      <td>8/1/2003</td>\n",
              "      <td>6.0</td>\n",
              "      <td>2003</td>\n",
              "    </tr>\n",
              "    <tr>\n",
              "      <th>1437</th>\n",
              "      <td>tt0382625</td>\n",
              "      <td>125000000</td>\n",
              "      <td>758239851</td>\n",
              "      <td>The Da Vinci Code</td>\n",
              "      <td>Tom Hanks|Audrey Tautou|Ian McKellen|Paul Bett...</td>\n",
              "      <td>Ron Howard</td>\n",
              "      <td>So Dark The Con Of Man</td>\n",
              "      <td>When the curator of the Louvre is found murder...</td>\n",
              "      <td>149</td>\n",
              "      <td>Thriller|Mystery</td>\n",
              "      <td>Columbia Pictures|Imagine Entertainment|Skylar...</td>\n",
              "      <td>5/17/2006</td>\n",
              "      <td>6.4</td>\n",
              "      <td>2006</td>\n",
              "    </tr>\n",
              "    <tr>\n",
              "      <th>1776</th>\n",
              "      <td>tt0804461</td>\n",
              "      <td>20000000</td>\n",
              "      <td>16974459</td>\n",
              "      <td>Death Sentence</td>\n",
              "      <td>Kevin Bacon|Garrett Hedlund|Kelly Preston|Jord...</td>\n",
              "      <td>James Wan</td>\n",
              "      <td>Protect what's yours.</td>\n",
              "      <td>Nick Hume is a mild-mannered executive with a ...</td>\n",
              "      <td>105</td>\n",
              "      <td>Action|Crime|Drama|Thriller</td>\n",
              "      <td>Twentieth Century Fox Film Corporation|Dune En...</td>\n",
              "      <td>8/31/2007</td>\n",
              "      <td>6.5</td>\n",
              "      <td>2007</td>\n",
              "    </tr>\n",
              "    <tr>\n",
              "      <th>487</th>\n",
              "      <td>tt1226273</td>\n",
              "      <td>80000000</td>\n",
              "      <td>74901339</td>\n",
              "      <td>Edge of Darkness</td>\n",
              "      <td>Mel Gibson|Ray Winstone|Danny Huston|Shawn Rob...</td>\n",
              "      <td>Martin Campbell</td>\n",
              "      <td>Some secrets take us to the edge.</td>\n",
              "      <td>As a seasoned homicide detective, Thomas Crave...</td>\n",
              "      <td>117</td>\n",
              "      <td>Crime|Drama|Mystery|Thriller</td>\n",
              "      <td>Icon Productions|BBC Films|GK Films|Warner Bros.</td>\n",
              "      <td>1/29/2010</td>\n",
              "      <td>6.0</td>\n",
              "      <td>2010</td>\n",
              "    </tr>\n",
              "  </tbody>\n",
              "</table>\n",
              "</div>"
            ],
            "text/plain": [
              "        imdb_id     budget    revenue  ... release_date vote_average release_year\n",
              "1141  tt0305711   18000000  101564935  ...     1/9/2003          5.3         2003\n",
              "1094  tt0328828   55000000  231449203  ...     8/1/2003          6.0         2003\n",
              "1437  tt0382625  125000000  758239851  ...    5/17/2006          6.4         2006\n",
              "1776  tt0804461   20000000   16974459  ...    8/31/2007          6.5         2007\n",
              "487   tt1226273   80000000   74901339  ...    1/29/2010          6.0         2010\n",
              "\n",
              "[5 rows x 14 columns]"
            ]
          },
          "metadata": {
            "tags": []
          },
          "execution_count": 11
        }
      ]
    },
    {
      "cell_type": "code",
      "metadata": {
        "colab": {
          "base_uri": "https://localhost:8080/",
          "height": 297
        },
        "id": "CoYUnagMVp-C",
        "outputId": "8176a83e-fe70-4955-8961-65f296733ed6"
      },
      "source": [
        "data.describe()"
      ],
      "execution_count": 12,
      "outputs": [
        {
          "output_type": "execute_result",
          "data": {
            "text/html": [
              "<div>\n",
              "<style scoped>\n",
              "    .dataframe tbody tr th:only-of-type {\n",
              "        vertical-align: middle;\n",
              "    }\n",
              "\n",
              "    .dataframe tbody tr th {\n",
              "        vertical-align: top;\n",
              "    }\n",
              "\n",
              "    .dataframe thead th {\n",
              "        text-align: right;\n",
              "    }\n",
              "</style>\n",
              "<table border=\"1\" class=\"dataframe\">\n",
              "  <thead>\n",
              "    <tr style=\"text-align: right;\">\n",
              "      <th></th>\n",
              "      <th>budget</th>\n",
              "      <th>revenue</th>\n",
              "      <th>runtime</th>\n",
              "      <th>vote_average</th>\n",
              "      <th>release_year</th>\n",
              "    </tr>\n",
              "  </thead>\n",
              "  <tbody>\n",
              "    <tr>\n",
              "      <th>count</th>\n",
              "      <td>1.889000e+03</td>\n",
              "      <td>1.889000e+03</td>\n",
              "      <td>1889.000000</td>\n",
              "      <td>1889.000000</td>\n",
              "      <td>1889.000000</td>\n",
              "    </tr>\n",
              "    <tr>\n",
              "      <th>mean</th>\n",
              "      <td>5.431083e+07</td>\n",
              "      <td>1.553653e+08</td>\n",
              "      <td>109.658549</td>\n",
              "      <td>6.140762</td>\n",
              "      <td>2007.860773</td>\n",
              "    </tr>\n",
              "    <tr>\n",
              "      <th>std</th>\n",
              "      <td>4.858721e+07</td>\n",
              "      <td>2.146698e+08</td>\n",
              "      <td>18.017041</td>\n",
              "      <td>0.764763</td>\n",
              "      <td>4.468841</td>\n",
              "    </tr>\n",
              "    <tr>\n",
              "      <th>min</th>\n",
              "      <td>5.000000e+06</td>\n",
              "      <td>2.033165e+06</td>\n",
              "      <td>63.000000</td>\n",
              "      <td>3.300000</td>\n",
              "      <td>2000.000000</td>\n",
              "    </tr>\n",
              "    <tr>\n",
              "      <th>25%</th>\n",
              "      <td>2.000000e+07</td>\n",
              "      <td>3.456058e+07</td>\n",
              "      <td>97.000000</td>\n",
              "      <td>5.600000</td>\n",
              "      <td>2004.000000</td>\n",
              "    </tr>\n",
              "    <tr>\n",
              "      <th>50%</th>\n",
              "      <td>3.800000e+07</td>\n",
              "      <td>8.361541e+07</td>\n",
              "      <td>107.000000</td>\n",
              "      <td>6.100000</td>\n",
              "      <td>2008.000000</td>\n",
              "    </tr>\n",
              "    <tr>\n",
              "      <th>75%</th>\n",
              "      <td>7.200000e+07</td>\n",
              "      <td>1.782626e+08</td>\n",
              "      <td>120.000000</td>\n",
              "      <td>6.600000</td>\n",
              "      <td>2012.000000</td>\n",
              "    </tr>\n",
              "    <tr>\n",
              "      <th>max</th>\n",
              "      <td>3.800000e+08</td>\n",
              "      <td>2.781506e+09</td>\n",
              "      <td>214.000000</td>\n",
              "      <td>8.100000</td>\n",
              "      <td>2015.000000</td>\n",
              "    </tr>\n",
              "  </tbody>\n",
              "</table>\n",
              "</div>"
            ],
            "text/plain": [
              "             budget       revenue      runtime  vote_average  release_year\n",
              "count  1.889000e+03  1.889000e+03  1889.000000   1889.000000   1889.000000\n",
              "mean   5.431083e+07  1.553653e+08   109.658549      6.140762   2007.860773\n",
              "std    4.858721e+07  2.146698e+08    18.017041      0.764763      4.468841\n",
              "min    5.000000e+06  2.033165e+06    63.000000      3.300000   2000.000000\n",
              "25%    2.000000e+07  3.456058e+07    97.000000      5.600000   2004.000000\n",
              "50%    3.800000e+07  8.361541e+07   107.000000      6.100000   2008.000000\n",
              "75%    7.200000e+07  1.782626e+08   120.000000      6.600000   2012.000000\n",
              "max    3.800000e+08  2.781506e+09   214.000000      8.100000   2015.000000"
            ]
          },
          "metadata": {
            "tags": []
          },
          "execution_count": 12
        }
      ]
    },
    {
      "cell_type": "code",
      "metadata": {
        "colab": {
          "base_uri": "https://localhost:8080/"
        },
        "id": "zHpT6hVM1Cem",
        "outputId": "83d8d918-fbf7-412e-e921-91c4c156e5d9"
      },
      "source": [
        "data.info()"
      ],
      "execution_count": 13,
      "outputs": [
        {
          "output_type": "stream",
          "text": [
            "<class 'pandas.core.frame.DataFrame'>\n",
            "RangeIndex: 1889 entries, 0 to 1888\n",
            "Data columns (total 14 columns):\n",
            " #   Column                Non-Null Count  Dtype  \n",
            "---  ------                --------------  -----  \n",
            " 0   imdb_id               1889 non-null   object \n",
            " 1   budget                1889 non-null   int64  \n",
            " 2   revenue               1889 non-null   int64  \n",
            " 3   original_title        1889 non-null   object \n",
            " 4   cast                  1889 non-null   object \n",
            " 5   director              1889 non-null   object \n",
            " 6   tagline               1889 non-null   object \n",
            " 7   overview              1889 non-null   object \n",
            " 8   runtime               1889 non-null   int64  \n",
            " 9   genres                1889 non-null   object \n",
            " 10  production_companies  1889 non-null   object \n",
            " 11  release_date          1889 non-null   object \n",
            " 12  vote_average          1889 non-null   float64\n",
            " 13  release_year          1889 non-null   int64  \n",
            "dtypes: float64(1), int64(4), object(9)\n",
            "memory usage: 206.7+ KB\n"
          ],
          "name": "stdout"
        }
      ]
    },
    {
      "cell_type": "markdown",
      "metadata": {
        "id": "DTIt7ezGVp-G"
      },
      "source": [
        "# Предобработка"
      ]
    },
    {
      "cell_type": "code",
      "metadata": {
        "id": "jNb40DwKVp-H"
      },
      "source": [
        "answers = {} # создадим словарь для ответов\n",
        "\n",
        "# тут другие ваши предобработки колонок например:\n",
        "\n",
        "#the time given in the dataset is in string format.\n",
        "#So we need to change this in datetime format\n",
        "# ..."
      ],
      "execution_count": 14,
      "outputs": []
    },
    {
      "cell_type": "code",
      "metadata": {
        "id": "nTyVBQUo1Cen"
      },
      "source": [
        "# Для ответа на вопросы добавляем в DataSet data колонку profit = revenue - budget\n",
        "data['profit'] = data['revenue'] - data['budget']"
      ],
      "execution_count": 15,
      "outputs": []
    },
    {
      "cell_type": "code",
      "metadata": {
        "id": "YI1F9qlZ1Cen"
      },
      "source": [
        "# переформатируем колонку с названиями фильмов и описаний (original_title) в string\n",
        "data['original_title'] = data.original_title.apply(lambda title: str(title))\n",
        "data['overview'] = data.overview.apply(lambda title: str(title))"
      ],
      "execution_count": 16,
      "outputs": []
    },
    {
      "cell_type": "code",
      "metadata": {
        "id": "Q6l2Mk6p1Ceo"
      },
      "source": [
        "# добавляем колонку месяц выпуска release_month\n",
        "data['release_month'] = data['release_date'].str.split('/').str[0]"
      ],
      "execution_count": 17,
      "outputs": []
    },
    {
      "cell_type": "code",
      "metadata": {
        "id": "eKoTUyZH1Ceo"
      },
      "source": [
        "# добавляем колонку с количеством символом в названиях фильмов, включая пробелы\n",
        "data['title_length'] = data['original_title'].str.len()"
      ],
      "execution_count": 18,
      "outputs": []
    },
    {
      "cell_type": "code",
      "metadata": {
        "id": "naUUpisk1Ceo"
      },
      "source": [
        "# добавляем колонку с количеством слов в описании фильмов\n",
        "data['overview_length'] = data['overview'].str.count(' ') + 1"
      ],
      "execution_count": 19,
      "outputs": []
    },
    {
      "cell_type": "code",
      "metadata": {
        "scrolled": true,
        "id": "1jQLrcOa1Ceo"
      },
      "source": [
        "# В исходных данных несколько режиссеров, жанров и задействованные актеры могут быть перечислены через |. \n",
        "# Такое представление данных не позволяет ответить на все вопросы проекта.\n",
        "# Преобразуем DF data так, чтобы разделить режиссеров, жанры, актеров, студии, понимая что в таком представлении фильмы будут дублироваться\n",
        "# По шагам: (1) удаляем колонку (2) добавляем переименованную колонку с разделенными значениями\n",
        "\n",
        "data_genres = data.drop('genres', axis = 1).join(data['genres'].str.split('|', expand = True).stack().reset_index(level=1, drop=True).rename('genres'))"
      ],
      "execution_count": 20,
      "outputs": []
    },
    {
      "cell_type": "code",
      "metadata": {
        "id": "xsIRITHP1Cep"
      },
      "source": [
        "data_genres_director = data_genres.drop('director', axis = 1).join(data_genres['director'].str.split('|', expand = True).stack().reset_index(level=1, drop=True).rename('director'))"
      ],
      "execution_count": 21,
      "outputs": []
    },
    {
      "cell_type": "code",
      "metadata": {
        "scrolled": false,
        "id": "1ji9A4y41Cep"
      },
      "source": [
        "data_cast = data.drop('cast', axis = 1).join(data['cast'].str.split('|', expand = True).stack().reset_index(level=1, drop=True).rename('cast'))"
      ],
      "execution_count": 22,
      "outputs": []
    },
    {
      "cell_type": "code",
      "metadata": {
        "id": "iuiL9oMU1Cep"
      },
      "source": [
        "data_cast_genres = data_cast.drop('genres', axis = 1).join(data_cast['genres'].str.split('|', expand = True).stack().reset_index(level=1, drop=True).rename('genres'))"
      ],
      "execution_count": 23,
      "outputs": []
    },
    {
      "cell_type": "code",
      "metadata": {
        "id": "ZSZH7CJB1Ceq"
      },
      "source": [
        "data_production_companies = data.drop('production_companies', axis = 1).join(data['production_companies'].str.split('|', expand = True).stack().reset_index(level=1, drop=True).rename('production_companies'))"
      ],
      "execution_count": 24,
      "outputs": []
    },
    {
      "cell_type": "markdown",
      "metadata": {
        "id": "YxZaH-nPVp-L"
      },
      "source": [
        "# 1. У какого фильма из списка самый большой бюджет?"
      ]
    },
    {
      "cell_type": "markdown",
      "metadata": {
        "id": "Nd-G5gX6Vp-M"
      },
      "source": [
        "Использовать варианты ответов в коде решения запрещено.    \n",
        "Вы думаете и в жизни у вас будут варианты ответов?)"
      ]
    },
    {
      "cell_type": "code",
      "metadata": {
        "colab": {
          "base_uri": "https://localhost:8080/"
        },
        "id": "dZwb3m28Vp-S",
        "outputId": "d15ab5fc-02f0-4d27-8f49-db6279d4056e"
      },
      "source": [
        "# тут пишем ваш код для решения данного вопроса:\n",
        "data[data.budget == data.budget.max()].original_title"
      ],
      "execution_count": 25,
      "outputs": [
        {
          "output_type": "execute_result",
          "data": {
            "text/plain": [
              "723    Pirates of the Caribbean: On Stranger Tides\n",
              "Name: original_title, dtype: object"
            ]
          },
          "metadata": {
            "tags": []
          },
          "execution_count": 25
        }
      ]
    },
    {
      "cell_type": "code",
      "metadata": {
        "id": "y8HrdMIi1Cer"
      },
      "source": [
        "answers['1'] = 'Pirates of the Caribbean: On Stranger Tides'"
      ],
      "execution_count": 26,
      "outputs": []
    },
    {
      "cell_type": "markdown",
      "metadata": {
        "id": "K7L3nbRXVp-X"
      },
      "source": [
        "ВАРИАНТ 2"
      ]
    },
    {
      "cell_type": "code",
      "metadata": {
        "id": "OGaoQI7rVp-X"
      },
      "source": [
        "# можно добавлять разные варианты решения"
      ],
      "execution_count": 27,
      "outputs": []
    },
    {
      "cell_type": "markdown",
      "metadata": {
        "id": "FNRbbI3vVp-c",
        "tags": []
      },
      "source": [
        "# 2. Какой из фильмов самый длительный (в минутах)?"
      ]
    },
    {
      "cell_type": "code",
      "metadata": {
        "id": "vHAoEXNTVp-d"
      },
      "source": [
        "# думаю логику работы с этим словарем вы уже поняли, \n",
        "# по этому не буду больше его дублировать\n",
        "answers['2'] = 'Gods and Generals'"
      ],
      "execution_count": 28,
      "outputs": []
    },
    {
      "cell_type": "code",
      "metadata": {
        "colab": {
          "base_uri": "https://localhost:8080/"
        },
        "id": "ot-VX2XrVp-g",
        "outputId": "6d79edc8-50fd-4af8-e483-432a18465788"
      },
      "source": [
        "data[data.runtime == data.runtime.max()].original_title"
      ],
      "execution_count": 29,
      "outputs": [
        {
          "output_type": "execute_result",
          "data": {
            "text/plain": [
              "1157    Gods and Generals\n",
              "Name: original_title, dtype: object"
            ]
          },
          "metadata": {
            "tags": []
          },
          "execution_count": 29
        }
      ]
    },
    {
      "cell_type": "markdown",
      "metadata": {
        "id": "bapLlpW8Vp-k"
      },
      "source": [
        "# 3. Какой из фильмов самый короткий (в минутах)?\n",
        "\n",
        "\n",
        "\n"
      ]
    },
    {
      "cell_type": "code",
      "metadata": {
        "colab": {
          "base_uri": "https://localhost:8080/"
        },
        "id": "YBxaSHuAVp-l",
        "outputId": "c217ebec-6371-4888-e65e-b99106eab67e"
      },
      "source": [
        "data[data.runtime == data.runtime.min()].original_title"
      ],
      "execution_count": 30,
      "outputs": [
        {
          "output_type": "execute_result",
          "data": {
            "text/plain": [
              "768    Winnie the Pooh\n",
              "Name: original_title, dtype: object"
            ]
          },
          "metadata": {
            "tags": []
          },
          "execution_count": 30
        }
      ]
    },
    {
      "cell_type": "code",
      "metadata": {
        "id": "gGqsvhFk1Cet"
      },
      "source": [
        "answers['3'] = 'Winnie the Pooh'"
      ],
      "execution_count": 31,
      "outputs": []
    },
    {
      "cell_type": "markdown",
      "metadata": {
        "id": "TfQbxbfNVp-p"
      },
      "source": [
        "# 4. Какова средняя длительность фильмов?\n"
      ]
    },
    {
      "cell_type": "code",
      "metadata": {
        "colab": {
          "base_uri": "https://localhost:8080/"
        },
        "id": "5K6dKZYVVp-q",
        "tags": [],
        "outputId": "ce0ffc76-1434-457c-da9b-c57f4ee5e05e"
      },
      "source": [
        "data.runtime.mean()"
      ],
      "execution_count": 32,
      "outputs": [
        {
          "output_type": "execute_result",
          "data": {
            "text/plain": [
              "109.6585494970884"
            ]
          },
          "metadata": {
            "tags": []
          },
          "execution_count": 32
        }
      ]
    },
    {
      "cell_type": "code",
      "metadata": {
        "id": "A0Ee8O8s1Ceu"
      },
      "source": [
        "answers['4'] = '110'"
      ],
      "execution_count": 33,
      "outputs": []
    },
    {
      "cell_type": "code",
      "metadata": {
        "colab": {
          "base_uri": "https://localhost:8080/"
        },
        "id": "vhGLEAoE1Ceu",
        "outputId": "b2dbb53e-4a0e-4ee9-a819-fe46a38b9400"
      },
      "source": [
        "# второе решение с ответами на вопросы 4 и 5:\n",
        "\n",
        "data.runtime.describe()"
      ],
      "execution_count": 34,
      "outputs": [
        {
          "output_type": "execute_result",
          "data": {
            "text/plain": [
              "count    1889.000000\n",
              "mean      109.658549\n",
              "std        18.017041\n",
              "min        63.000000\n",
              "25%        97.000000\n",
              "50%       107.000000\n",
              "75%       120.000000\n",
              "max       214.000000\n",
              "Name: runtime, dtype: float64"
            ]
          },
          "metadata": {
            "tags": []
          },
          "execution_count": 34
        }
      ]
    },
    {
      "cell_type": "code",
      "metadata": {
        "id": "cafe8hV41Ceu"
      },
      "source": [
        ""
      ],
      "execution_count": 34,
      "outputs": []
    },
    {
      "cell_type": "markdown",
      "metadata": {
        "id": "r5TvbnT_Vp-u"
      },
      "source": [
        "# 5. Каково медианное значение длительности фильмов? "
      ]
    },
    {
      "cell_type": "code",
      "metadata": {
        "colab": {
          "base_uri": "https://localhost:8080/"
        },
        "id": "iBROplKnVp-v",
        "outputId": "6928e491-f5b5-4a14-ac3e-0bb9fbff04a6"
      },
      "source": [
        "data.runtime.median()"
      ],
      "execution_count": 35,
      "outputs": [
        {
          "output_type": "execute_result",
          "data": {
            "text/plain": [
              "107.0"
            ]
          },
          "metadata": {
            "tags": []
          },
          "execution_count": 35
        }
      ]
    },
    {
      "cell_type": "code",
      "metadata": {
        "id": "fHQy069c1Cev"
      },
      "source": [
        "answers['5'] = '107'"
      ],
      "execution_count": 36,
      "outputs": []
    },
    {
      "cell_type": "markdown",
      "metadata": {
        "id": "39P-deDSVp-y"
      },
      "source": [
        "# 6. Какой самый прибыльный фильм?\n",
        "#### Внимание! Здесь и далее под «прибылью» или «убытками» понимается разность между сборами и бюджетом фильма. (прибыль = сборы - бюджет) в нашем датасете это будет (profit = revenue - budget) "
      ]
    },
    {
      "cell_type": "code",
      "metadata": {
        "colab": {
          "base_uri": "https://localhost:8080/"
        },
        "id": "UYZh4T9WVp-y",
        "outputId": "c86c455a-c80d-450e-f721-405ea74a515a"
      },
      "source": [
        "data[data.profit == data.profit.max()].original_title"
      ],
      "execution_count": 37,
      "outputs": [
        {
          "output_type": "execute_result",
          "data": {
            "text/plain": [
              "239    Avatar\n",
              "Name: original_title, dtype: object"
            ]
          },
          "metadata": {
            "tags": []
          },
          "execution_count": 37
        }
      ]
    },
    {
      "cell_type": "code",
      "metadata": {
        "id": "U4y3D_Hu1Cev"
      },
      "source": [
        "answers['6'] = 'Avatar'"
      ],
      "execution_count": 38,
      "outputs": []
    },
    {
      "cell_type": "markdown",
      "metadata": {
        "id": "M99JmIX4Vp-2"
      },
      "source": [
        "# 7. Какой фильм самый убыточный? "
      ]
    },
    {
      "cell_type": "code",
      "metadata": {
        "colab": {
          "base_uri": "https://localhost:8080/"
        },
        "id": "w-D2m4XPVp-3",
        "outputId": "a6467aa1-7ce1-42df-b3a2-acdccb72342e"
      },
      "source": [
        "data[data.profit == data.profit.min()].original_title"
      ],
      "execution_count": 39,
      "outputs": [
        {
          "output_type": "execute_result",
          "data": {
            "text/plain": [
              "1245    The Lone Ranger\n",
              "Name: original_title, dtype: object"
            ]
          },
          "metadata": {
            "tags": []
          },
          "execution_count": 39
        }
      ]
    },
    {
      "cell_type": "code",
      "metadata": {
        "id": "WZnyuBdI1Cew"
      },
      "source": [
        "answers['7'] = 'The Lone Ranger'"
      ],
      "execution_count": 40,
      "outputs": []
    },
    {
      "cell_type": "markdown",
      "metadata": {
        "id": "wEOM5ERVVp-6"
      },
      "source": [
        "# 8. У скольких фильмов из датасета объем сборов оказался выше бюджета?"
      ]
    },
    {
      "cell_type": "code",
      "metadata": {
        "colab": {
          "base_uri": "https://localhost:8080/"
        },
        "id": "y00_7HD6Vp-7",
        "outputId": "58b6f931-bba0-4aa2-def9-8ff18965c83d"
      },
      "source": [
        "data[data.revenue > data.budget].original_title.count()"
      ],
      "execution_count": 41,
      "outputs": [
        {
          "output_type": "execute_result",
          "data": {
            "text/plain": [
              "1478"
            ]
          },
          "metadata": {
            "tags": []
          },
          "execution_count": 41
        }
      ]
    },
    {
      "cell_type": "code",
      "metadata": {
        "colab": {
          "base_uri": "https://localhost:8080/"
        },
        "id": "8cLgctQS1Cex",
        "outputId": "cdb71ca1-3b25-4199-f0c3-c64c36eb2be5"
      },
      "source": [
        "#дополнительный варинт решения\n",
        "data[data.profit > 0].original_title.count()"
      ],
      "execution_count": 42,
      "outputs": [
        {
          "output_type": "execute_result",
          "data": {
            "text/plain": [
              "1478"
            ]
          },
          "metadata": {
            "tags": []
          },
          "execution_count": 42
        }
      ]
    },
    {
      "cell_type": "code",
      "metadata": {
        "id": "YA6JjGKB1Cex"
      },
      "source": [
        "answers['8'] = 1478"
      ],
      "execution_count": 43,
      "outputs": []
    },
    {
      "cell_type": "markdown",
      "metadata": {
        "id": "xhpspA9KVp_A"
      },
      "source": [
        "# 9. Какой фильм оказался самым кассовым в 2008 году?"
      ]
    },
    {
      "cell_type": "code",
      "metadata": {
        "colab": {
          "base_uri": "https://localhost:8080/"
        },
        "id": "MoUyQr9RVp_B",
        "outputId": "7899943e-4f75-4e7d-c5c5-68c16fd7e3d8"
      },
      "source": [
        "data_2008 = data[data.release_year == 2008]\n",
        "data_2008[data_2008.revenue == data_2008.revenue.max()].original_title"
      ],
      "execution_count": 44,
      "outputs": [
        {
          "output_type": "execute_result",
          "data": {
            "text/plain": [
              "599    The Dark Knight\n",
              "Name: original_title, dtype: object"
            ]
          },
          "metadata": {
            "tags": []
          },
          "execution_count": 44
        }
      ]
    },
    {
      "cell_type": "code",
      "metadata": {
        "id": "LSxfwXsa1Cey"
      },
      "source": [
        "answers['9'] = 'The Dark Knight'"
      ],
      "execution_count": 45,
      "outputs": []
    },
    {
      "cell_type": "markdown",
      "metadata": {
        "id": "Zi4hDKidVp_F"
      },
      "source": [
        "# 10. Самый убыточный фильм за период с 2012 по 2014 г. (включительно)?\n"
      ]
    },
    {
      "cell_type": "code",
      "metadata": {
        "colab": {
          "base_uri": "https://localhost:8080/"
        },
        "id": "XqyRmufJVp_F",
        "outputId": "2f5952ab-abae-45a4-9c41-5e8954c8d014"
      },
      "source": [
        "data_2012_2014 = data[(data.release_year > 2012) & (data.release_year <= 2014)]\n",
        "data_2012_2014[data_2012_2014.profit == data_2012_2014.profit.min()].original_title"
      ],
      "execution_count": 46,
      "outputs": [
        {
          "output_type": "execute_result",
          "data": {
            "text/plain": [
              "1245    The Lone Ranger\n",
              "Name: original_title, dtype: object"
            ]
          },
          "metadata": {
            "tags": []
          },
          "execution_count": 46
        }
      ]
    },
    {
      "cell_type": "code",
      "metadata": {
        "id": "5IkcEMvv1Cez"
      },
      "source": [
        "answers['10'] = 'The Lone Ranger'"
      ],
      "execution_count": 47,
      "outputs": []
    },
    {
      "cell_type": "markdown",
      "metadata": {
        "id": "EA7Sa9dkVp_I"
      },
      "source": [
        "# 11. Какого жанра фильмов больше всего?"
      ]
    },
    {
      "cell_type": "code",
      "metadata": {
        "colab": {
          "base_uri": "https://localhost:8080/"
        },
        "id": "zsJAwJ8QVp_J",
        "scrolled": true,
        "outputId": "96cb0cd9-9f5a-4b00-cd3e-05b05d70888b"
      },
      "source": [
        "data['genres'].str.split('|', expand = True).stack().reset_index(level=1, drop=True).value_counts()\n"
      ],
      "execution_count": 48,
      "outputs": [
        {
          "output_type": "execute_result",
          "data": {
            "text/plain": [
              "Drama              782\n",
              "Comedy             683\n",
              "Thriller           596\n",
              "Action             582\n",
              "Adventure          415\n",
              "Crime              315\n",
              "Romance            308\n",
              "Family             260\n",
              "Science Fiction    248\n",
              "Fantasy            222\n",
              "Horror             176\n",
              "Mystery            168\n",
              "Animation          139\n",
              "Music               64\n",
              "History             62\n",
              "War                 58\n",
              "Western             19\n",
              "Documentary          8\n",
              "Foreign              2\n",
              "dtype: int64"
            ]
          },
          "metadata": {
            "tags": []
          },
          "execution_count": 48
        }
      ]
    },
    {
      "cell_type": "markdown",
      "metadata": {
        "id": "Ax6g2C8SVp_M"
      },
      "source": [
        "ВАРИАНТ 2"
      ]
    },
    {
      "cell_type": "code",
      "metadata": {
        "colab": {
          "base_uri": "https://localhost:8080/"
        },
        "id": "otO3SbrSVp_N",
        "outputId": "958c2a40-1973-458a-9cfe-9d5a213947b1"
      },
      "source": [
        "# используем дополнительный датасет с разделенными жанрами (см. предобработку)\n",
        "data_genres['genres'].value_counts().head(1)"
      ],
      "execution_count": 49,
      "outputs": [
        {
          "output_type": "execute_result",
          "data": {
            "text/plain": [
              "Drama    782\n",
              "Name: genres, dtype: int64"
            ]
          },
          "metadata": {
            "tags": []
          },
          "execution_count": 49
        }
      ]
    },
    {
      "cell_type": "code",
      "metadata": {
        "id": "WWAoZ85W1Ce0"
      },
      "source": [
        "answers['11'] = 'Drama'"
      ],
      "execution_count": 50,
      "outputs": []
    },
    {
      "cell_type": "markdown",
      "metadata": {
        "id": "T9_bPWpkVp_Q"
      },
      "source": [
        "# 12. Фильмы какого жанра чаще всего становятся прибыльными? "
      ]
    },
    {
      "cell_type": "code",
      "metadata": {
        "colab": {
          "base_uri": "https://localhost:8080/"
        },
        "id": "Tmt8MaK1Vp_R",
        "scrolled": false,
        "outputId": "b181d07b-cd12-43d9-e7ff-6a48cc4bc607"
      },
      "source": [
        "data[data.profit > 0]['genres'].str.split('|', expand = True).stack().reset_index(level=1, drop=True).value_counts()"
      ],
      "execution_count": 51,
      "outputs": [
        {
          "output_type": "execute_result",
          "data": {
            "text/plain": [
              "Drama              560\n",
              "Comedy             551\n",
              "Thriller           446\n",
              "Action             444\n",
              "Adventure          337\n",
              "Romance            242\n",
              "Crime              231\n",
              "Family             226\n",
              "Science Fiction    195\n",
              "Fantasy            188\n",
              "Horror             150\n",
              "Animation          120\n",
              "Mystery            119\n",
              "Music               47\n",
              "History             46\n",
              "War                 41\n",
              "Western             12\n",
              "Documentary          7\n",
              "dtype: int64"
            ]
          },
          "metadata": {
            "tags": []
          },
          "execution_count": 51
        }
      ]
    },
    {
      "cell_type": "code",
      "metadata": {
        "colab": {
          "base_uri": "https://localhost:8080/"
        },
        "id": "c5-KdJdw1Ce1",
        "outputId": "ac3acde0-4e84-4503-f7cc-ba4bef18dde2"
      },
      "source": [
        "# используем дополнительный датасет с разделенными жанрами (см. предобработку)\n",
        "data_genres[data_genres.profit > 0]['genres'].value_counts()"
      ],
      "execution_count": 52,
      "outputs": [
        {
          "output_type": "execute_result",
          "data": {
            "text/plain": [
              "Drama              560\n",
              "Comedy             551\n",
              "Thriller           446\n",
              "Action             444\n",
              "Adventure          337\n",
              "Romance            242\n",
              "Crime              231\n",
              "Family             226\n",
              "Science Fiction    195\n",
              "Fantasy            188\n",
              "Horror             150\n",
              "Animation          120\n",
              "Mystery            119\n",
              "Music               47\n",
              "History             46\n",
              "War                 41\n",
              "Western             12\n",
              "Documentary          7\n",
              "Name: genres, dtype: int64"
            ]
          },
          "metadata": {
            "tags": []
          },
          "execution_count": 52
        }
      ]
    },
    {
      "cell_type": "code",
      "metadata": {
        "id": "4exqLFry1Ce1"
      },
      "source": [
        "answers['12'] = 'Drama'"
      ],
      "execution_count": 53,
      "outputs": []
    },
    {
      "cell_type": "markdown",
      "metadata": {
        "id": "0F23bgsDVp_U"
      },
      "source": [
        "# 13. У какого режиссера самые большие суммарные кассовые сборы?"
      ]
    },
    {
      "cell_type": "code",
      "metadata": {
        "colab": {
          "base_uri": "https://localhost:8080/"
        },
        "id": "K6Z3J8ygVp_X",
        "scrolled": true,
        "outputId": "ef1fd651-4801-4f09-d639-6a0a49a59d48"
      },
      "source": [
        "data.groupby(['director'])['revenue'].sum().sort_values(ascending = False)"
      ],
      "execution_count": 54,
      "outputs": [
        {
          "output_type": "execute_result",
          "data": {
            "text/plain": [
              "director\n",
              "Peter Jackson        6490593685\n",
              "Christopher Nolan    4167548502\n",
              "David Yates          4154295625\n",
              "Michael Bay          3886938960\n",
              "J.J. Abrams          3579169916\n",
              "                        ...    \n",
              "David MichÃ´d           2295423\n",
              "Steven Shainberg        2281089\n",
              "Paul Schrader           2062066\n",
              "Keanu Reeves            2054941\n",
              "Simon Hunter            2033165\n",
              "Name: revenue, Length: 957, dtype: int64"
            ]
          },
          "metadata": {
            "tags": []
          },
          "execution_count": 54
        }
      ]
    },
    {
      "cell_type": "code",
      "metadata": {
        "id": "NiCb6wM11Ce1"
      },
      "source": [
        "answers['13'] = 'Peter Jackson'"
      ],
      "execution_count": 55,
      "outputs": []
    },
    {
      "cell_type": "markdown",
      "metadata": {
        "id": "PsYC9FgRVp_a"
      },
      "source": [
        "# 14. Какой режисер снял больше всего фильмов в стиле Action?"
      ]
    },
    {
      "cell_type": "code",
      "metadata": {
        "colab": {
          "base_uri": "https://localhost:8080/"
        },
        "id": "wd2M-wHeVp_b",
        "scrolled": true,
        "outputId": "ab482073-c3a5-46a3-9fd9-6d5357e76ed5"
      },
      "source": [
        "# используем датасет из Предподготовки\n",
        "data_genres_director[data_genres_director.genres == 'Action'].groupby(['director'])['original_title'].count().sort_values(ascending = False)"
      ],
      "execution_count": 56,
      "outputs": [
        {
          "output_type": "execute_result",
          "data": {
            "text/plain": [
              "director\n",
              "Robert Rodriguez         30\n",
              "Paul W.S. Anderson       25\n",
              "Michael Bay              24\n",
              "Antoine Fuqua            19\n",
              "Paul Greengrass          19\n",
              "                         ..\n",
              "Paul McGuigan             1\n",
              "Christopher McQuarrie     1\n",
              "Joseph Kahn               1\n",
              "Andy Tennant              1\n",
              "Kevin Macdonald           1\n",
              "Name: original_title, Length: 364, dtype: int64"
            ]
          },
          "metadata": {
            "tags": []
          },
          "execution_count": 56
        }
      ]
    },
    {
      "cell_type": "code",
      "metadata": {
        "id": "PkFPARJ21Ce3"
      },
      "source": [
        "answers['14'] = 'Robert Rodriguez'"
      ],
      "execution_count": 57,
      "outputs": []
    },
    {
      "cell_type": "markdown",
      "metadata": {
        "id": "PQ0KciD7Vp_f"
      },
      "source": [
        "# 15. Фильмы с каким актером принесли самые высокие кассовые сборы в 2012 году? "
      ]
    },
    {
      "cell_type": "code",
      "metadata": {
        "colab": {
          "base_uri": "https://localhost:8080/"
        },
        "id": "aga62oeKVp_g",
        "scrolled": true,
        "outputId": "ace4515b-0f0f-4b95-fac2-48ece2b7ab55"
      },
      "source": [
        "# используем датасет из Предподготовки\n",
        "data_cast[data_cast.release_year == 2012].groupby(['cast'])['revenue'].sum().sort_values(ascending = False)"
      ],
      "execution_count": 58,
      "outputs": [
        {
          "output_type": "execute_result",
          "data": {
            "text/plain": [
              "cast\n",
              "Chris Hemsworth      2027450773\n",
              "Denis Leary          1629460639\n",
              "Anne Hathaway        1522851057\n",
              "Chris Evans          1519557910\n",
              "Robert Downey Jr.    1519557910\n",
              "                        ...    \n",
              "Jason Bateman           3428048\n",
              "Danny Huston            2106557\n",
              "Sami Gayle              2106557\n",
              "Josh Lucas              2106557\n",
              "Nicolas Cage            2106557\n",
              "Name: revenue, Length: 466, dtype: int64"
            ]
          },
          "metadata": {
            "tags": []
          },
          "execution_count": 58
        }
      ]
    },
    {
      "cell_type": "code",
      "metadata": {
        "id": "qhM1fNB51Ce4"
      },
      "source": [
        "answers['15'] = 'Chris Hemsworth'"
      ],
      "execution_count": 59,
      "outputs": []
    },
    {
      "cell_type": "markdown",
      "metadata": {
        "id": "mWHyyL7QVp_j"
      },
      "source": [
        "# 16. Какой актер снялся в большем количестве высокобюджетных фильмов?"
      ]
    },
    {
      "cell_type": "code",
      "metadata": {
        "colab": {
          "base_uri": "https://localhost:8080/"
        },
        "id": "qQtmHKTFVp_k",
        "outputId": "ffc3eeb6-0532-41a8-c151-213706939ccb"
      },
      "source": [
        "# используем датасет из Предподготовки\n",
        "data_cast[data_cast.budget > data_cast.budget.mean()].groupby(['cast'])['original_title'].count().sort_values(ascending = False)"
      ],
      "execution_count": 60,
      "outputs": [
        {
          "output_type": "execute_result",
          "data": {
            "text/plain": [
              "cast\n",
              "Matt Damon           18\n",
              "Adam Sandler         17\n",
              "Angelina Jolie       16\n",
              "Eddie Murphy         15\n",
              "Samuel L. Jackson    15\n",
              "                     ..\n",
              "Leslie Bibb           1\n",
              "Leonard Nimoy         1\n",
              "Lennie James          1\n",
              "Lena Olin             1\n",
              "50 Cent               1\n",
              "Name: original_title, Length: 1505, dtype: int64"
            ]
          },
          "metadata": {
            "tags": []
          },
          "execution_count": 60
        }
      ]
    },
    {
      "cell_type": "code",
      "metadata": {
        "id": "cSxfhdXM1Ce4"
      },
      "source": [
        "answers['16'] = 'Matt Damon'"
      ],
      "execution_count": 61,
      "outputs": []
    },
    {
      "cell_type": "markdown",
      "metadata": {
        "id": "NIh6AaW5Vp_n"
      },
      "source": [
        "# 17. В фильмах какого жанра больше всего снимался Nicolas Cage? "
      ]
    },
    {
      "cell_type": "code",
      "metadata": {
        "colab": {
          "base_uri": "https://localhost:8080/"
        },
        "id": "H74SJDIBVp_n",
        "outputId": "373329b4-228a-479f-f444-959d8ae71495"
      },
      "source": [
        "data_cast_genres[data_cast_genres.cast == 'Nicolas Cage'].groupby(['genres'])['original_title'].count().sort_values(ascending = False)"
      ],
      "execution_count": 62,
      "outputs": [
        {
          "output_type": "execute_result",
          "data": {
            "text/plain": [
              "genres\n",
              "Action             85\n",
              "Thriller           75\n",
              "Drama              60\n",
              "Crime              50\n",
              "Fantasy            40\n",
              "Adventure          35\n",
              "Comedy             30\n",
              "Science Fiction    20\n",
              "Mystery            15\n",
              "Family             15\n",
              "Animation          15\n",
              "History            10\n",
              "War                 5\n",
              "Romance             5\n",
              "Horror              5\n",
              "Name: original_title, dtype: int64"
            ]
          },
          "metadata": {
            "tags": []
          },
          "execution_count": 62
        }
      ]
    },
    {
      "cell_type": "code",
      "metadata": {
        "id": "Pf9cbrq11Ce5"
      },
      "source": [
        "answers['17'] = 'Action'"
      ],
      "execution_count": 63,
      "outputs": []
    },
    {
      "cell_type": "markdown",
      "metadata": {
        "id": "RqOmPRfWVp_q"
      },
      "source": [
        "# 18. Самый убыточный фильм от Paramount Pictures"
      ]
    },
    {
      "cell_type": "code",
      "metadata": {
        "colab": {
          "base_uri": "https://localhost:8080/"
        },
        "id": "9E_B0Y96Vp_r",
        "scrolled": true,
        "outputId": "f94a4e89-f1a1-4c3c-82c9-c64de2ec2640"
      },
      "source": [
        "data[data.production_companies.str.contains('Paramount Pictures')].groupby(['original_title'])['profit'].min().sort_values(ascending = True)"
      ],
      "execution_count": 64,
      "outputs": [
        {
          "output_type": "execute_result",
          "data": {
            "text/plain": [
              "original_title\n",
              "K-19: The Widowmaker                                  -64831034\n",
              "Timeline                                              -60519261\n",
              "Next                                                  -51788987\n",
              "Alfie                                                 -46604061\n",
              "Twisted                                               -24805000\n",
              "                                                        ...    \n",
              "Mission: Impossible - Ghost Protocol                  549713380\n",
              "Transformers                                          559709780\n",
              "Indiana Jones and the Kingdom of the Crystal Skull    601636033\n",
              "Transformers: Revenge of the Fallen                   686297228\n",
              "Transformers: Dark of the Moon                        928746996\n",
              "Name: profit, Length: 122, dtype: int64"
            ]
          },
          "metadata": {
            "tags": []
          },
          "execution_count": 64
        }
      ]
    },
    {
      "cell_type": "code",
      "metadata": {
        "id": "IJ88HkN91Ce5"
      },
      "source": [
        "answers['18'] = 'K-19: The Widowmaker'"
      ],
      "execution_count": 65,
      "outputs": []
    },
    {
      "cell_type": "markdown",
      "metadata": {
        "id": "vS8Ur6ddVp_u"
      },
      "source": [
        "# 19. Какой год стал самым успешным по суммарным кассовым сборам?"
      ]
    },
    {
      "cell_type": "code",
      "metadata": {
        "colab": {
          "base_uri": "https://localhost:8080/"
        },
        "id": "Dnbt4GdIVp_v",
        "scrolled": true,
        "outputId": "0534af2b-75d0-4e83-a6c3-2aa7e1773a21"
      },
      "source": [
        "data.groupby(['release_year'])['revenue'].sum().sort_values(ascending = False)"
      ],
      "execution_count": 66,
      "outputs": [
        {
          "output_type": "execute_result",
          "data": {
            "text/plain": [
              "release_year\n",
              "2015    25449202382\n",
              "2014    23405862953\n",
              "2013    23213799791\n",
              "2012    23079001687\n",
              "2011    22676791872\n",
              "2010    21071204961\n",
              "2009    20261791024\n",
              "2008    18252781990\n",
              "2007    18162406801\n",
              "2004    15663430720\n",
              "2005    15309425558\n",
              "2006    14775042320\n",
              "2003    14346123312\n",
              "2002    14136361487\n",
              "2001    13017764865\n",
              "2000    10664099805\n",
              "Name: revenue, dtype: int64"
            ]
          },
          "metadata": {
            "tags": []
          },
          "execution_count": 66
        }
      ]
    },
    {
      "cell_type": "code",
      "metadata": {
        "id": "Uub9Fq8a1Ce6"
      },
      "source": [
        "answers['19'] = 2015"
      ],
      "execution_count": 67,
      "outputs": []
    },
    {
      "cell_type": "markdown",
      "metadata": {
        "id": "JAzJh4QAVp_z"
      },
      "source": [
        "# 20. Какой самый прибыльный год для студии Warner Bros?"
      ]
    },
    {
      "cell_type": "code",
      "metadata": {
        "colab": {
          "base_uri": "https://localhost:8080/"
        },
        "id": "wgVu02DEVp_0",
        "outputId": "c121b185-f5ca-42b3-94f2-c67b43f053bf"
      },
      "source": [
        "data[data.production_companies.str.contains('Warner Bros')].groupby(['release_year'])['profit'].sum().sort_values(ascending = False)"
      ],
      "execution_count": 68,
      "outputs": [
        {
          "output_type": "execute_result",
          "data": {
            "text/plain": [
              "release_year\n",
              "2014    2295464519\n",
              "2007    2201675217\n",
              "2008    2134595031\n",
              "2010    1974712985\n",
              "2011    1871393682\n",
              "2003    1855493377\n",
              "2009    1822454136\n",
              "2013    1636453400\n",
              "2004    1631933725\n",
              "2005    1551980298\n",
              "2001    1343545668\n",
              "2012    1258020056\n",
              "2002    1022709901\n",
              "2015     870368348\n",
              "2006     620170743\n",
              "2000     452631386\n",
              "Name: profit, dtype: int64"
            ]
          },
          "metadata": {
            "tags": []
          },
          "execution_count": 68
        }
      ]
    },
    {
      "cell_type": "code",
      "metadata": {
        "id": "Or7776bt1Ce6"
      },
      "source": [
        "answers['20'] = 2014"
      ],
      "execution_count": 69,
      "outputs": []
    },
    {
      "cell_type": "markdown",
      "metadata": {
        "id": "8Im1S2HRVp_4"
      },
      "source": [
        "# 21. В каком месяце за все годы суммарно вышло больше всего фильмов?"
      ]
    },
    {
      "cell_type": "code",
      "metadata": {
        "colab": {
          "base_uri": "https://localhost:8080/",
          "height": 37
        },
        "id": "lev6TH7gVp_4",
        "outputId": "b2c01e52-4bc7-4c1b-abf5-bd80d9bacbbf"
      },
      "source": [
        "data_by_month = data.groupby(['release_month'])['original_title'].count().sort_values(ascending = False)\n",
        "data_by_month.index.max()"
      ],
      "execution_count": 70,
      "outputs": [
        {
          "output_type": "execute_result",
          "data": {
            "application/vnd.google.colaboratory.intrinsic+json": {
              "type": "string"
            },
            "text/plain": [
              "'9'"
            ]
          },
          "metadata": {
            "tags": []
          },
          "execution_count": 70
        }
      ]
    },
    {
      "cell_type": "code",
      "metadata": {
        "id": "hduiE3hi1Ce7"
      },
      "source": [
        "answers['21'] = 'Сентябрь'"
      ],
      "execution_count": 71,
      "outputs": []
    },
    {
      "cell_type": "markdown",
      "metadata": {
        "id": "uAJsZ_NeVp_7"
      },
      "source": [
        "# 22. Сколько суммарно вышло фильмов летом? (за июнь, июль, август)"
      ]
    },
    {
      "cell_type": "code",
      "metadata": {
        "colab": {
          "base_uri": "https://localhost:8080/"
        },
        "id": "Aa-hEREoVp_8",
        "scrolled": true,
        "outputId": "daf2f6d6-788e-4242-c067-ba196f472152"
      },
      "source": [
        "data_by_month[\"6\"] + data_by_month[\"7\"] + data_by_month[\"8\"]"
      ],
      "execution_count": 72,
      "outputs": [
        {
          "output_type": "execute_result",
          "data": {
            "text/plain": [
              "450"
            ]
          },
          "metadata": {
            "tags": []
          },
          "execution_count": 72
        }
      ]
    },
    {
      "cell_type": "code",
      "metadata": {
        "id": "Se_VojzJ1Ce7"
      },
      "source": [
        "answers['22'] = 450"
      ],
      "execution_count": 73,
      "outputs": []
    },
    {
      "cell_type": "markdown",
      "metadata": {
        "id": "G94ppOY1VqAA"
      },
      "source": [
        "# 23. Для какого режиссера зима – самое продуктивное время года? "
      ]
    },
    {
      "cell_type": "code",
      "metadata": {
        "colab": {
          "base_uri": "https://localhost:8080/"
        },
        "id": "RhNTsamuVqAB",
        "outputId": "32d92e2b-baf2-4d3f-e9e4-768c6acc9743"
      },
      "source": [
        "data_winter = data[(data.release_month == '12') | (data.release_month == '1') | (data.release_month == '2')]\n",
        "data_winter.groupby(['director'])['original_title'].count().sort_values(ascending = False)"
      ],
      "execution_count": 74,
      "outputs": [
        {
          "output_type": "execute_result",
          "data": {
            "text/plain": [
              "director\n",
              "Peter Jackson                          7\n",
              "Steven Soderbergh                      6\n",
              "Clint Eastwood                         6\n",
              "Nancy Meyers                           4\n",
              "Adam Shankman                          4\n",
              "                                      ..\n",
              "Matt Bettinelli-Olpin|Tyler Gillett    1\n",
              "Matt Reeves                            1\n",
              "Matthew O'Callaghan                    1\n",
              "Matthew Vaughn                         1\n",
              "Aaron Seltzer|Jason Friedberg          1\n",
              "Name: original_title, Length: 332, dtype: int64"
            ]
          },
          "metadata": {
            "tags": []
          },
          "execution_count": 74
        }
      ]
    },
    {
      "cell_type": "code",
      "metadata": {
        "id": "xSTeLXP81Ce7"
      },
      "source": [
        "answers['23'] = 'Peter Jackson'"
      ],
      "execution_count": 75,
      "outputs": []
    },
    {
      "cell_type": "markdown",
      "metadata": {
        "id": "RBo0JVjVVqAF"
      },
      "source": [
        "# 24. Какая студия дает самые длинные названия своим фильмам по количеству символов?"
      ]
    },
    {
      "cell_type": "code",
      "metadata": {
        "colab": {
          "base_uri": "https://localhost:8080/"
        },
        "id": "QRGS8L0iVqAG",
        "outputId": "512ba9e2-a805-49ea-f094-950086f514d5"
      },
      "source": [
        "data_production_companies.groupby(['production_companies'])['title_length'].mean().sort_values(ascending = False)"
      ],
      "execution_count": 76,
      "outputs": [
        {
          "output_type": "execute_result",
          "data": {
            "text/plain": [
              "production_companies\n",
              "Four By Two Productions       83.0\n",
              "Jim Henson Company, The       59.0\n",
              "Dos Corazones                 47.0\n",
              "Museum Canada Productions     46.0\n",
              "Polsky Films                  46.0\n",
              "                              ... \n",
              "Everest Entertainment          3.0\n",
              "Berlanti Productions           3.0\n",
              "XM2 Productions                2.0\n",
              "Ixtlan Productions             2.0\n",
              "Global Entertainment Group     2.0\n",
              "Name: title_length, Length: 1771, dtype: float64"
            ]
          },
          "metadata": {
            "tags": []
          },
          "execution_count": 76
        }
      ]
    },
    {
      "cell_type": "code",
      "metadata": {
        "id": "N-dcBWBT1Ce8"
      },
      "source": [
        "answers['24'] = 'Four By Two Productions'"
      ],
      "execution_count": 77,
      "outputs": []
    },
    {
      "cell_type": "markdown",
      "metadata": {
        "id": "9G0hbvR7VqAK"
      },
      "source": [
        "# 25. Описание фильмов какой студии в среднем самые длинные по количеству слов?"
      ]
    },
    {
      "cell_type": "code",
      "metadata": {
        "colab": {
          "base_uri": "https://localhost:8080/"
        },
        "id": "Ge2GsLNxVqAK",
        "outputId": "c534865d-03c4-435f-f586-460a0d1e432f"
      },
      "source": [
        "data_production_companies.groupby(['production_companies'])['overview_length'].mean().sort_values(ascending = False)"
      ],
      "execution_count": 78,
      "outputs": [
        {
          "output_type": "execute_result",
          "data": {
            "text/plain": [
              "production_companies\n",
              "Midnight Picture Show                    175.0\n",
              "Room 9 Entertainment                     161.0\n",
              "Heineken Branded Entertainment           161.0\n",
              "98 MPH Productions                       159.0\n",
              "Brookwell-McNamara Entertainment         156.0\n",
              "                                         ...  \n",
              "London Boulevard                          13.0\n",
              "Phantom Four                              13.0\n",
              "Henceforth                                13.0\n",
              "Empire Pictures                           11.0\n",
              "Motion Picture Corporation of America     11.0\n",
              "Name: overview_length, Length: 1771, dtype: float64"
            ]
          },
          "metadata": {
            "tags": []
          },
          "execution_count": 78
        }
      ]
    },
    {
      "cell_type": "code",
      "metadata": {
        "id": "9z9OGAIu1Ce8"
      },
      "source": [
        "answers['25'] = 'Midnight Picture Show'"
      ],
      "execution_count": 79,
      "outputs": []
    },
    {
      "cell_type": "markdown",
      "metadata": {
        "id": "FJ1AFt90VqAP"
      },
      "source": [
        "# 26. Какие фильмы входят в 1 процент лучших по рейтингу? \n",
        "по vote_average"
      ]
    },
    {
      "cell_type": "code",
      "metadata": {
        "scrolled": true,
        "colab": {
          "base_uri": "https://localhost:8080/",
          "height": 1000
        },
        "id": "kz1tqxCs1Ce9",
        "outputId": "c278f66d-188d-44f3-be3c-ac979d4c4a45"
      },
      "source": [
        "top_1 = round(len(data.index) / 100)\n",
        "data.sort_values(by = 'vote_average', ascending = False).head(top_1)\n"
      ],
      "execution_count": 80,
      "outputs": [
        {
          "output_type": "execute_result",
          "data": {
            "text/html": [
              "<div>\n",
              "<style scoped>\n",
              "    .dataframe tbody tr th:only-of-type {\n",
              "        vertical-align: middle;\n",
              "    }\n",
              "\n",
              "    .dataframe tbody tr th {\n",
              "        vertical-align: top;\n",
              "    }\n",
              "\n",
              "    .dataframe thead th {\n",
              "        text-align: right;\n",
              "    }\n",
              "</style>\n",
              "<table border=\"1\" class=\"dataframe\">\n",
              "  <thead>\n",
              "    <tr style=\"text-align: right;\">\n",
              "      <th></th>\n",
              "      <th>imdb_id</th>\n",
              "      <th>budget</th>\n",
              "      <th>revenue</th>\n",
              "      <th>original_title</th>\n",
              "      <th>cast</th>\n",
              "      <th>director</th>\n",
              "      <th>tagline</th>\n",
              "      <th>overview</th>\n",
              "      <th>runtime</th>\n",
              "      <th>genres</th>\n",
              "      <th>production_companies</th>\n",
              "      <th>release_date</th>\n",
              "      <th>vote_average</th>\n",
              "      <th>release_year</th>\n",
              "      <th>profit</th>\n",
              "      <th>release_month</th>\n",
              "      <th>title_length</th>\n",
              "      <th>overview_length</th>\n",
              "    </tr>\n",
              "  </thead>\n",
              "  <tbody>\n",
              "    <tr>\n",
              "      <th>599</th>\n",
              "      <td>tt0468569</td>\n",
              "      <td>185000000</td>\n",
              "      <td>1001921825</td>\n",
              "      <td>The Dark Knight</td>\n",
              "      <td>Christian Bale|Michael Caine|Heath Ledger|Aaro...</td>\n",
              "      <td>Christopher Nolan</td>\n",
              "      <td>Why So Serious?</td>\n",
              "      <td>Batman raises the stakes in his war on crime. ...</td>\n",
              "      <td>152</td>\n",
              "      <td>Drama|Action|Crime|Thriller</td>\n",
              "      <td>DC Comics|Legendary Pictures|Warner Bros.|Syncopy</td>\n",
              "      <td>7/16/2008</td>\n",
              "      <td>8.1</td>\n",
              "      <td>2008</td>\n",
              "      <td>816921825</td>\n",
              "      <td>7</td>\n",
              "      <td>15</td>\n",
              "      <td>67</td>\n",
              "    </tr>\n",
              "    <tr>\n",
              "      <th>118</th>\n",
              "      <td>tt0816692</td>\n",
              "      <td>165000000</td>\n",
              "      <td>621752480</td>\n",
              "      <td>Interstellar</td>\n",
              "      <td>Matthew McConaughey|Jessica Chastain|Anne Hath...</td>\n",
              "      <td>Christopher Nolan</td>\n",
              "      <td>Mankind was born on Earth. It was never meant ...</td>\n",
              "      <td>Interstellar chronicles the adventures of a gr...</td>\n",
              "      <td>169</td>\n",
              "      <td>Adventure|Drama|Science Fiction</td>\n",
              "      <td>Paramount Pictures|Legendary Pictures|Warner B...</td>\n",
              "      <td>11/5/2014</td>\n",
              "      <td>8.0</td>\n",
              "      <td>2014</td>\n",
              "      <td>456752480</td>\n",
              "      <td>11</td>\n",
              "      <td>12</td>\n",
              "      <td>35</td>\n",
              "    </tr>\n",
              "    <tr>\n",
              "      <th>125</th>\n",
              "      <td>tt2084970</td>\n",
              "      <td>14000000</td>\n",
              "      <td>233555708</td>\n",
              "      <td>The Imitation Game</td>\n",
              "      <td>Benedict Cumberbatch|Keira Knightley|Matthew G...</td>\n",
              "      <td>Morten Tyldum</td>\n",
              "      <td>The true enigma was the man who cracked the code.</td>\n",
              "      <td>Based on the real life story of legendary cryp...</td>\n",
              "      <td>113</td>\n",
              "      <td>History|Drama|Thriller|War</td>\n",
              "      <td>Black Bear Pictures|Bristol Automotive</td>\n",
              "      <td>11/14/2014</td>\n",
              "      <td>8.0</td>\n",
              "      <td>2014</td>\n",
              "      <td>219555708</td>\n",
              "      <td>11</td>\n",
              "      <td>18</td>\n",
              "      <td>46</td>\n",
              "    </tr>\n",
              "    <tr>\n",
              "      <th>9</th>\n",
              "      <td>tt2096673</td>\n",
              "      <td>175000000</td>\n",
              "      <td>853708609</td>\n",
              "      <td>Inside Out</td>\n",
              "      <td>Amy Poehler|Phyllis Smith|Richard Kind|Bill Ha...</td>\n",
              "      <td>Pete Docter</td>\n",
              "      <td>Meet the little voices inside your head.</td>\n",
              "      <td>Growing up can be a bumpy road, and it's no ex...</td>\n",
              "      <td>94</td>\n",
              "      <td>Comedy|Animation|Family</td>\n",
              "      <td>Walt Disney Pictures|Pixar Animation Studios|W...</td>\n",
              "      <td>6/9/2015</td>\n",
              "      <td>8.0</td>\n",
              "      <td>2015</td>\n",
              "      <td>678708609</td>\n",
              "      <td>6</td>\n",
              "      <td>10</td>\n",
              "      <td>112</td>\n",
              "    </tr>\n",
              "    <tr>\n",
              "      <th>34</th>\n",
              "      <td>tt3170832</td>\n",
              "      <td>6000000</td>\n",
              "      <td>35401758</td>\n",
              "      <td>Room</td>\n",
              "      <td>Brie Larson|Jacob Tremblay|Joan Allen|Sean Bri...</td>\n",
              "      <td>Lenny Abrahamson</td>\n",
              "      <td>Love knows no boundaries</td>\n",
              "      <td>Jack is a young boy of 5 years old who has liv...</td>\n",
              "      <td>117</td>\n",
              "      <td>Drama|Thriller</td>\n",
              "      <td>Element Pictures|No Trace Camping|A24|Duperele...</td>\n",
              "      <td>10/16/2015</td>\n",
              "      <td>8.0</td>\n",
              "      <td>2015</td>\n",
              "      <td>29401758</td>\n",
              "      <td>10</td>\n",
              "      <td>4</td>\n",
              "      <td>49</td>\n",
              "    </tr>\n",
              "    <tr>\n",
              "      <th>1183</th>\n",
              "      <td>tt0993846</td>\n",
              "      <td>100000000</td>\n",
              "      <td>392000694</td>\n",
              "      <td>The Wolf of Wall Street</td>\n",
              "      <td>Leonardo DiCaprio|Jonah Hill|Margot Robbie|Kyl...</td>\n",
              "      <td>Martin Scorsese</td>\n",
              "      <td>EARN. SPEND. PARTY.</td>\n",
              "      <td>A New York stockbroker refuses to cooperate in...</td>\n",
              "      <td>180</td>\n",
              "      <td>Crime|Drama|Comedy</td>\n",
              "      <td>Paramount Pictures|Appian Way|EMJAG Production...</td>\n",
              "      <td>12/25/2013</td>\n",
              "      <td>7.9</td>\n",
              "      <td>2013</td>\n",
              "      <td>292000694</td>\n",
              "      <td>12</td>\n",
              "      <td>23</td>\n",
              "      <td>29</td>\n",
              "    </tr>\n",
              "    <tr>\n",
              "      <th>128</th>\n",
              "      <td>tt2267998</td>\n",
              "      <td>61000000</td>\n",
              "      <td>369330363</td>\n",
              "      <td>Gone Girl</td>\n",
              "      <td>Ben Affleck|Rosamund Pike|Carrie Coon|Neil Pat...</td>\n",
              "      <td>David Fincher</td>\n",
              "      <td>You don't know what you've got 'til it's...</td>\n",
              "      <td>With his wife's disappearance having become th...</td>\n",
              "      <td>145</td>\n",
              "      <td>Mystery|Thriller|Drama</td>\n",
              "      <td>Twentieth Century Fox Film Corporation|Regency...</td>\n",
              "      <td>10/1/2014</td>\n",
              "      <td>7.9</td>\n",
              "      <td>2014</td>\n",
              "      <td>308330363</td>\n",
              "      <td>10</td>\n",
              "      <td>9</td>\n",
              "      <td>30</td>\n",
              "    </tr>\n",
              "    <tr>\n",
              "      <th>1191</th>\n",
              "      <td>tt2024544</td>\n",
              "      <td>20000000</td>\n",
              "      <td>187000000</td>\n",
              "      <td>12 Years a Slave</td>\n",
              "      <td>Chiwetel Ejiofor|Michael Fassbender|Lupita Nyo...</td>\n",
              "      <td>Steve McQueen</td>\n",
              "      <td>The extraordinary true story of Solomon Northup</td>\n",
              "      <td>In the pre-Civil War United States, Solomon No...</td>\n",
              "      <td>134</td>\n",
              "      <td>Drama|History</td>\n",
              "      <td>Plan B Entertainment|Regency Enterprises|River...</td>\n",
              "      <td>10/18/2013</td>\n",
              "      <td>7.9</td>\n",
              "      <td>2013</td>\n",
              "      <td>167000000</td>\n",
              "      <td>10</td>\n",
              "      <td>16</td>\n",
              "      <td>61</td>\n",
              "    </tr>\n",
              "    <tr>\n",
              "      <th>119</th>\n",
              "      <td>tt2015381</td>\n",
              "      <td>170000000</td>\n",
              "      <td>773312399</td>\n",
              "      <td>Guardians of the Galaxy</td>\n",
              "      <td>Chris Pratt|Zoe Saldana|Dave Bautista|Vin Dies...</td>\n",
              "      <td>James Gunn</td>\n",
              "      <td>All heroes start somewhere.</td>\n",
              "      <td>Light years from Earth, 26 years after being a...</td>\n",
              "      <td>121</td>\n",
              "      <td>Action|Science Fiction|Adventure</td>\n",
              "      <td>Marvel Studios|Moving Picture Company (MPC)|Bu...</td>\n",
              "      <td>7/30/2014</td>\n",
              "      <td>7.9</td>\n",
              "      <td>2014</td>\n",
              "      <td>603312399</td>\n",
              "      <td>7</td>\n",
              "      <td>23</td>\n",
              "      <td>28</td>\n",
              "    </tr>\n",
              "    <tr>\n",
              "      <th>1081</th>\n",
              "      <td>tt0167260</td>\n",
              "      <td>94000000</td>\n",
              "      <td>1118888979</td>\n",
              "      <td>The Lord of the Rings: The Return of the King</td>\n",
              "      <td>Elijah Wood|Ian McKellen|Viggo Mortensen|Liv T...</td>\n",
              "      <td>Peter Jackson</td>\n",
              "      <td>The eye of the enemy is moving.</td>\n",
              "      <td>Aragorn is revealed as the heir to the ancient...</td>\n",
              "      <td>201</td>\n",
              "      <td>Adventure|Fantasy|Action</td>\n",
              "      <td>WingNut Films|New Line Cinema</td>\n",
              "      <td>12/1/2003</td>\n",
              "      <td>7.9</td>\n",
              "      <td>2003</td>\n",
              "      <td>1024888979</td>\n",
              "      <td>12</td>\n",
              "      <td>45</td>\n",
              "      <td>45</td>\n",
              "    </tr>\n",
              "    <tr>\n",
              "      <th>1800</th>\n",
              "      <td>tt0209144</td>\n",
              "      <td>9000000</td>\n",
              "      <td>39723096</td>\n",
              "      <td>Memento</td>\n",
              "      <td>Guy Pearce|Carrie-Anne Moss|Joe Pantoliano|Mar...</td>\n",
              "      <td>Christopher Nolan</td>\n",
              "      <td>Some memories are best forgotten.</td>\n",
              "      <td>Suffering short-term memory loss after a head ...</td>\n",
              "      <td>113</td>\n",
              "      <td>Mystery|Thriller</td>\n",
              "      <td>Summit Entertainment|Newmarket Capital Group|T...</td>\n",
              "      <td>10/11/2000</td>\n",
              "      <td>7.9</td>\n",
              "      <td>2000</td>\n",
              "      <td>30723096</td>\n",
              "      <td>10</td>\n",
              "      <td>7</td>\n",
              "      <td>78</td>\n",
              "    </tr>\n",
              "    <tr>\n",
              "      <th>370</th>\n",
              "      <td>tt1375666</td>\n",
              "      <td>160000000</td>\n",
              "      <td>825500000</td>\n",
              "      <td>Inception</td>\n",
              "      <td>Leonardo DiCaprio|Joseph Gordon-Levitt|Ellen P...</td>\n",
              "      <td>Christopher Nolan</td>\n",
              "      <td>Your mind is the scene of the crime.</td>\n",
              "      <td>Cobb, a skilled thief who commits corporate es...</td>\n",
              "      <td>148</td>\n",
              "      <td>Action|Thriller|Science Fiction|Mystery|Adventure</td>\n",
              "      <td>Legendary Pictures|Warner Bros.|Syncopy</td>\n",
              "      <td>7/14/2010</td>\n",
              "      <td>7.9</td>\n",
              "      <td>2010</td>\n",
              "      <td>665500000</td>\n",
              "      <td>7</td>\n",
              "      <td>9</td>\n",
              "      <td>44</td>\n",
              "    </tr>\n",
              "    <tr>\n",
              "      <th>872</th>\n",
              "      <td>tt0253474</td>\n",
              "      <td>35000000</td>\n",
              "      <td>120072577</td>\n",
              "      <td>The Pianist</td>\n",
              "      <td>Adrien Brody|Thomas Kretschmann|Frank Finlay|M...</td>\n",
              "      <td>Roman Polanski</td>\n",
              "      <td>Music was his passion. Survival was his master...</td>\n",
              "      <td>The Pianist is a film adapted from the biograp...</td>\n",
              "      <td>150</td>\n",
              "      <td>Drama|War</td>\n",
              "      <td>Bac Films|Canal+Polska|Heritage Films|Studio B...</td>\n",
              "      <td>9/24/2002</td>\n",
              "      <td>7.9</td>\n",
              "      <td>2002</td>\n",
              "      <td>85072577</td>\n",
              "      <td>9</td>\n",
              "      <td>11</td>\n",
              "      <td>39</td>\n",
              "    </tr>\n",
              "    <tr>\n",
              "      <th>138</th>\n",
              "      <td>tt2278388</td>\n",
              "      <td>30000000</td>\n",
              "      <td>174600318</td>\n",
              "      <td>The Grand Budapest Hotel</td>\n",
              "      <td>Ralph Fiennes|Tony Revolori|F. Murray Abraham|...</td>\n",
              "      <td>Wes Anderson</td>\n",
              "      <td>A perfect holiday without leaving home.</td>\n",
              "      <td>The Grand Budapest Hotel tells of a legendary ...</td>\n",
              "      <td>99</td>\n",
              "      <td>Comedy|Drama</td>\n",
              "      <td>Fox Searchlight Pictures|Scott Rudin Productio...</td>\n",
              "      <td>2/26/2014</td>\n",
              "      <td>7.9</td>\n",
              "      <td>2014</td>\n",
              "      <td>144600318</td>\n",
              "      <td>2</td>\n",
              "      <td>24</td>\n",
              "      <td>66</td>\n",
              "    </tr>\n",
              "    <tr>\n",
              "      <th>1188</th>\n",
              "      <td>tt1798709</td>\n",
              "      <td>23000000</td>\n",
              "      <td>47351251</td>\n",
              "      <td>Her</td>\n",
              "      <td>Joaquin Phoenix|Scarlett Johansson|Rooney Mara...</td>\n",
              "      <td>Spike Jonze</td>\n",
              "      <td>A Spike Jonze Love Story</td>\n",
              "      <td>In the not so distant future, Theodore, a lone...</td>\n",
              "      <td>126</td>\n",
              "      <td>Romance|Science Fiction|Drama</td>\n",
              "      <td>Annapurna Pictures</td>\n",
              "      <td>12/18/2013</td>\n",
              "      <td>7.8</td>\n",
              "      <td>2013</td>\n",
              "      <td>24351251</td>\n",
              "      <td>12</td>\n",
              "      <td>3</td>\n",
              "      <td>65</td>\n",
              "    </tr>\n",
              "    <tr>\n",
              "      <th>28</th>\n",
              "      <td>tt1895587</td>\n",
              "      <td>20000000</td>\n",
              "      <td>88346473</td>\n",
              "      <td>Spotlight</td>\n",
              "      <td>Mark Ruffalo|Michael Keaton|Rachel McAdams|Lie...</td>\n",
              "      <td>Tom McCarthy</td>\n",
              "      <td>Break the story. Break the silence.</td>\n",
              "      <td>The true story of how The Boston Globe uncover...</td>\n",
              "      <td>128</td>\n",
              "      <td>Drama|Thriller|History</td>\n",
              "      <td>Participant Media|Open Road Films|Anonymous Co...</td>\n",
              "      <td>11/6/2015</td>\n",
              "      <td>7.8</td>\n",
              "      <td>2015</td>\n",
              "      <td>68346473</td>\n",
              "      <td>11</td>\n",
              "      <td>9</td>\n",
              "      <td>30</td>\n",
              "    </tr>\n",
              "    <tr>\n",
              "      <th>124</th>\n",
              "      <td>tt2245084</td>\n",
              "      <td>165000000</td>\n",
              "      <td>652105443</td>\n",
              "      <td>Big Hero 6</td>\n",
              "      <td>Scott Adsit|Ryan Potter|Daniel Henney|T.J. Mil...</td>\n",
              "      <td>Don Hall|Chris Williams</td>\n",
              "      <td>From the creators of Wreck-it Ralph and Frozen</td>\n",
              "      <td>The special bond that develops between plus-si...</td>\n",
              "      <td>102</td>\n",
              "      <td>Adventure|Family|Animation|Action|Comedy</td>\n",
              "      <td>Walt Disney Pictures|Walt Disney Animation Stu...</td>\n",
              "      <td>10/24/2014</td>\n",
              "      <td>7.8</td>\n",
              "      <td>2014</td>\n",
              "      <td>487105443</td>\n",
              "      <td>10</td>\n",
              "      <td>10</td>\n",
              "      <td>29</td>\n",
              "    </tr>\n",
              "    <tr>\n",
              "      <th>177</th>\n",
              "      <td>tt2582846</td>\n",
              "      <td>12000000</td>\n",
              "      <td>305151265</td>\n",
              "      <td>The Fault in Our Stars</td>\n",
              "      <td>Shailene Woodley|Ansel Elgort|Nat Wolff|Laura ...</td>\n",
              "      <td>Josh Boone</td>\n",
              "      <td>One Sick Love Story</td>\n",
              "      <td>Despite the tumor-shrinking medical miracle th...</td>\n",
              "      <td>125</td>\n",
              "      <td>Romance|Drama</td>\n",
              "      <td>Fox 2000 Pictures|Temple Hill Entertainment|TS...</td>\n",
              "      <td>5/16/2014</td>\n",
              "      <td>7.8</td>\n",
              "      <td>2014</td>\n",
              "      <td>293151265</td>\n",
              "      <td>5</td>\n",
              "      <td>22</td>\n",
              "      <td>47</td>\n",
              "    </tr>\n",
              "    <tr>\n",
              "      <th>863</th>\n",
              "      <td>tt0167261</td>\n",
              "      <td>79000000</td>\n",
              "      <td>926287400</td>\n",
              "      <td>The Lord of the Rings: The Two Towers</td>\n",
              "      <td>Elijah Wood|Ian McKellen|Viggo Mortensen|Liv T...</td>\n",
              "      <td>Peter Jackson</td>\n",
              "      <td>A New Power Is Rising.</td>\n",
              "      <td>Frodo and Sam are trekking to Mordor to destro...</td>\n",
              "      <td>179</td>\n",
              "      <td>Adventure|Fantasy|Action</td>\n",
              "      <td>WingNut Films|New Line Cinema|The Saul Zaentz ...</td>\n",
              "      <td>12/18/2002</td>\n",
              "      <td>7.8</td>\n",
              "      <td>2002</td>\n",
              "      <td>847287400</td>\n",
              "      <td>12</td>\n",
              "      <td>37</td>\n",
              "      <td>41</td>\n",
              "    </tr>\n",
              "  </tbody>\n",
              "</table>\n",
              "</div>"
            ],
            "text/plain": [
              "        imdb_id     budget  ...  title_length overview_length\n",
              "599   tt0468569  185000000  ...            15              67\n",
              "118   tt0816692  165000000  ...            12              35\n",
              "125   tt2084970   14000000  ...            18              46\n",
              "9     tt2096673  175000000  ...            10             112\n",
              "34    tt3170832    6000000  ...             4              49\n",
              "1183  tt0993846  100000000  ...            23              29\n",
              "128   tt2267998   61000000  ...             9              30\n",
              "1191  tt2024544   20000000  ...            16              61\n",
              "119   tt2015381  170000000  ...            23              28\n",
              "1081  tt0167260   94000000  ...            45              45\n",
              "1800  tt0209144    9000000  ...             7              78\n",
              "370   tt1375666  160000000  ...             9              44\n",
              "872   tt0253474   35000000  ...            11              39\n",
              "138   tt2278388   30000000  ...            24              66\n",
              "1188  tt1798709   23000000  ...             3              65\n",
              "28    tt1895587   20000000  ...             9              30\n",
              "124   tt2245084  165000000  ...            10              29\n",
              "177   tt2582846   12000000  ...            22              47\n",
              "863   tt0167261   79000000  ...            37              41\n",
              "\n",
              "[19 rows x 18 columns]"
            ]
          },
          "metadata": {
            "tags": []
          },
          "execution_count": 80
        }
      ]
    },
    {
      "cell_type": "code",
      "metadata": {
        "id": "DCoMDilb1Ce9"
      },
      "source": [
        "answers['26'] = 'Inside Out, The Dark Knight, 12 Years a Slave'"
      ],
      "execution_count": 81,
      "outputs": []
    },
    {
      "cell_type": "markdown",
      "metadata": {
        "id": "MdXsUXbCVqAV"
      },
      "source": [
        "# 27. Какие актеры чаще всего снимаются в одном фильме вместе?\n"
      ]
    },
    {
      "cell_type": "code",
      "metadata": {
        "colab": {
          "base_uri": "https://localhost:8080/",
          "height": 392
        },
        "id": "K_AhO-Mg1Ce9",
        "outputId": "bb21662e-8002-4a38-ff48-e683f346bb31"
      },
      "source": [
        "#нет ответа на этот вопрос\n",
        "\n",
        "data_cast.groupby('original_title').head()\n",
        "cast_unique = data_cast.cast.unique()\n",
        "cast_unique\n",
        "data_cast_pivot = data_cast.pivot_table(index = 'cast', columns = 'cast_1', values = 'original_title', aggfunc = 'count', fill_value = 0, margins = True)\n",
        "data_cast_pivot.max().sort_values().index"
      ],
      "execution_count": 82,
      "outputs": [
        {
          "output_type": "error",
          "ename": "KeyError",
          "evalue": "ignored",
          "traceback": [
            "\u001b[0;31m---------------------------------------------------------------------------\u001b[0m",
            "\u001b[0;31mKeyError\u001b[0m                                  Traceback (most recent call last)",
            "\u001b[0;32m<ipython-input-82-eedb8318fda2>\u001b[0m in \u001b[0;36m<module>\u001b[0;34m()\u001b[0m\n\u001b[1;32m      4\u001b[0m \u001b[0mcast_unique\u001b[0m \u001b[0;34m=\u001b[0m \u001b[0mdata_cast\u001b[0m\u001b[0;34m.\u001b[0m\u001b[0mcast\u001b[0m\u001b[0;34m.\u001b[0m\u001b[0munique\u001b[0m\u001b[0;34m(\u001b[0m\u001b[0;34m)\u001b[0m\u001b[0;34m\u001b[0m\u001b[0;34m\u001b[0m\u001b[0m\n\u001b[1;32m      5\u001b[0m \u001b[0mcast_unique\u001b[0m\u001b[0;34m\u001b[0m\u001b[0;34m\u001b[0m\u001b[0m\n\u001b[0;32m----> 6\u001b[0;31m \u001b[0mdata_cast_pivot\u001b[0m \u001b[0;34m=\u001b[0m \u001b[0mdata_cast\u001b[0m\u001b[0;34m.\u001b[0m\u001b[0mpivot_table\u001b[0m\u001b[0;34m(\u001b[0m\u001b[0mindex\u001b[0m \u001b[0;34m=\u001b[0m \u001b[0;34m'cast'\u001b[0m\u001b[0;34m,\u001b[0m \u001b[0mcolumns\u001b[0m \u001b[0;34m=\u001b[0m \u001b[0;34m'cast_1'\u001b[0m\u001b[0;34m,\u001b[0m \u001b[0mvalues\u001b[0m \u001b[0;34m=\u001b[0m \u001b[0;34m'original_title'\u001b[0m\u001b[0;34m,\u001b[0m \u001b[0maggfunc\u001b[0m \u001b[0;34m=\u001b[0m \u001b[0;34m'count'\u001b[0m\u001b[0;34m,\u001b[0m \u001b[0mfill_value\u001b[0m \u001b[0;34m=\u001b[0m \u001b[0;36m0\u001b[0m\u001b[0;34m,\u001b[0m \u001b[0mmargins\u001b[0m \u001b[0;34m=\u001b[0m \u001b[0;32mTrue\u001b[0m\u001b[0;34m)\u001b[0m\u001b[0;34m\u001b[0m\u001b[0;34m\u001b[0m\u001b[0m\n\u001b[0m\u001b[1;32m      7\u001b[0m \u001b[0mdata_cast_pivot\u001b[0m\u001b[0;34m.\u001b[0m\u001b[0mmax\u001b[0m\u001b[0;34m(\u001b[0m\u001b[0;34m)\u001b[0m\u001b[0;34m.\u001b[0m\u001b[0msort_values\u001b[0m\u001b[0;34m(\u001b[0m\u001b[0;34m)\u001b[0m\u001b[0;34m.\u001b[0m\u001b[0mindex\u001b[0m\u001b[0;34m\u001b[0m\u001b[0;34m\u001b[0m\u001b[0m\n",
            "\u001b[0;32m/usr/local/lib/python3.7/dist-packages/pandas/core/frame.py\u001b[0m in \u001b[0;36mpivot_table\u001b[0;34m(self, values, index, columns, aggfunc, fill_value, margins, dropna, margins_name, observed)\u001b[0m\n\u001b[1;32m   6834\u001b[0m             \u001b[0mdropna\u001b[0m\u001b[0;34m=\u001b[0m\u001b[0mdropna\u001b[0m\u001b[0;34m,\u001b[0m\u001b[0;34m\u001b[0m\u001b[0;34m\u001b[0m\u001b[0m\n\u001b[1;32m   6835\u001b[0m             \u001b[0mmargins_name\u001b[0m\u001b[0;34m=\u001b[0m\u001b[0mmargins_name\u001b[0m\u001b[0;34m,\u001b[0m\u001b[0;34m\u001b[0m\u001b[0;34m\u001b[0m\u001b[0m\n\u001b[0;32m-> 6836\u001b[0;31m             \u001b[0mobserved\u001b[0m\u001b[0;34m=\u001b[0m\u001b[0mobserved\u001b[0m\u001b[0;34m,\u001b[0m\u001b[0;34m\u001b[0m\u001b[0;34m\u001b[0m\u001b[0m\n\u001b[0m\u001b[1;32m   6837\u001b[0m         )\n\u001b[1;32m   6838\u001b[0m \u001b[0;34m\u001b[0m\u001b[0m\n",
            "\u001b[0;32m/usr/local/lib/python3.7/dist-packages/pandas/core/reshape/pivot.py\u001b[0m in \u001b[0;36mpivot_table\u001b[0;34m(data, values, index, columns, aggfunc, fill_value, margins, dropna, margins_name, observed)\u001b[0m\n\u001b[1;32m    109\u001b[0m         \u001b[0mvalues\u001b[0m \u001b[0;34m=\u001b[0m \u001b[0mlist\u001b[0m\u001b[0;34m(\u001b[0m\u001b[0mvalues\u001b[0m\u001b[0;34m)\u001b[0m\u001b[0;34m\u001b[0m\u001b[0;34m\u001b[0m\u001b[0m\n\u001b[1;32m    110\u001b[0m \u001b[0;34m\u001b[0m\u001b[0m\n\u001b[0;32m--> 111\u001b[0;31m     \u001b[0mgrouped\u001b[0m \u001b[0;34m=\u001b[0m \u001b[0mdata\u001b[0m\u001b[0;34m.\u001b[0m\u001b[0mgroupby\u001b[0m\u001b[0;34m(\u001b[0m\u001b[0mkeys\u001b[0m\u001b[0;34m,\u001b[0m \u001b[0mobserved\u001b[0m\u001b[0;34m=\u001b[0m\u001b[0mobserved\u001b[0m\u001b[0;34m)\u001b[0m\u001b[0;34m\u001b[0m\u001b[0;34m\u001b[0m\u001b[0m\n\u001b[0m\u001b[1;32m    112\u001b[0m     \u001b[0magged\u001b[0m \u001b[0;34m=\u001b[0m \u001b[0mgrouped\u001b[0m\u001b[0;34m.\u001b[0m\u001b[0magg\u001b[0m\u001b[0;34m(\u001b[0m\u001b[0maggfunc\u001b[0m\u001b[0;34m)\u001b[0m\u001b[0;34m\u001b[0m\u001b[0;34m\u001b[0m\u001b[0m\n\u001b[1;32m    113\u001b[0m     \u001b[0;32mif\u001b[0m \u001b[0mdropna\u001b[0m \u001b[0;32mand\u001b[0m \u001b[0misinstance\u001b[0m\u001b[0;34m(\u001b[0m\u001b[0magged\u001b[0m\u001b[0;34m,\u001b[0m \u001b[0mABCDataFrame\u001b[0m\u001b[0;34m)\u001b[0m \u001b[0;32mand\u001b[0m \u001b[0mlen\u001b[0m\u001b[0;34m(\u001b[0m\u001b[0magged\u001b[0m\u001b[0;34m.\u001b[0m\u001b[0mcolumns\u001b[0m\u001b[0;34m)\u001b[0m\u001b[0;34m:\u001b[0m\u001b[0;34m\u001b[0m\u001b[0;34m\u001b[0m\u001b[0m\n",
            "\u001b[0;32m/usr/local/lib/python3.7/dist-packages/pandas/core/frame.py\u001b[0m in \u001b[0;36mgroupby\u001b[0;34m(self, by, axis, level, as_index, sort, group_keys, squeeze, observed, dropna)\u001b[0m\n\u001b[1;32m   6523\u001b[0m             \u001b[0msqueeze\u001b[0m\u001b[0;34m=\u001b[0m\u001b[0msqueeze\u001b[0m\u001b[0;34m,\u001b[0m\u001b[0;34m\u001b[0m\u001b[0;34m\u001b[0m\u001b[0m\n\u001b[1;32m   6524\u001b[0m             \u001b[0mobserved\u001b[0m\u001b[0;34m=\u001b[0m\u001b[0mobserved\u001b[0m\u001b[0;34m,\u001b[0m\u001b[0;34m\u001b[0m\u001b[0;34m\u001b[0m\u001b[0m\n\u001b[0;32m-> 6525\u001b[0;31m             \u001b[0mdropna\u001b[0m\u001b[0;34m=\u001b[0m\u001b[0mdropna\u001b[0m\u001b[0;34m,\u001b[0m\u001b[0;34m\u001b[0m\u001b[0;34m\u001b[0m\u001b[0m\n\u001b[0m\u001b[1;32m   6526\u001b[0m         )\n\u001b[1;32m   6527\u001b[0m \u001b[0;34m\u001b[0m\u001b[0m\n",
            "\u001b[0;32m/usr/local/lib/python3.7/dist-packages/pandas/core/groupby/groupby.py\u001b[0m in \u001b[0;36m__init__\u001b[0;34m(self, obj, keys, axis, level, grouper, exclusions, selection, as_index, sort, group_keys, squeeze, observed, mutated, dropna)\u001b[0m\n\u001b[1;32m    531\u001b[0m                 \u001b[0mobserved\u001b[0m\u001b[0;34m=\u001b[0m\u001b[0mobserved\u001b[0m\u001b[0;34m,\u001b[0m\u001b[0;34m\u001b[0m\u001b[0;34m\u001b[0m\u001b[0m\n\u001b[1;32m    532\u001b[0m                 \u001b[0mmutated\u001b[0m\u001b[0;34m=\u001b[0m\u001b[0mself\u001b[0m\u001b[0;34m.\u001b[0m\u001b[0mmutated\u001b[0m\u001b[0;34m,\u001b[0m\u001b[0;34m\u001b[0m\u001b[0;34m\u001b[0m\u001b[0m\n\u001b[0;32m--> 533\u001b[0;31m                 \u001b[0mdropna\u001b[0m\u001b[0;34m=\u001b[0m\u001b[0mself\u001b[0m\u001b[0;34m.\u001b[0m\u001b[0mdropna\u001b[0m\u001b[0;34m,\u001b[0m\u001b[0;34m\u001b[0m\u001b[0;34m\u001b[0m\u001b[0m\n\u001b[0m\u001b[1;32m    534\u001b[0m             )\n\u001b[1;32m    535\u001b[0m \u001b[0;34m\u001b[0m\u001b[0m\n",
            "\u001b[0;32m/usr/local/lib/python3.7/dist-packages/pandas/core/groupby/grouper.py\u001b[0m in \u001b[0;36mget_grouper\u001b[0;34m(obj, key, axis, level, sort, observed, mutated, validate, dropna)\u001b[0m\n\u001b[1;32m    784\u001b[0m                 \u001b[0min_axis\u001b[0m\u001b[0;34m,\u001b[0m \u001b[0mname\u001b[0m\u001b[0;34m,\u001b[0m \u001b[0mlevel\u001b[0m\u001b[0;34m,\u001b[0m \u001b[0mgpr\u001b[0m \u001b[0;34m=\u001b[0m \u001b[0;32mFalse\u001b[0m\u001b[0;34m,\u001b[0m \u001b[0;32mNone\u001b[0m\u001b[0;34m,\u001b[0m \u001b[0mgpr\u001b[0m\u001b[0;34m,\u001b[0m \u001b[0;32mNone\u001b[0m\u001b[0;34m\u001b[0m\u001b[0;34m\u001b[0m\u001b[0m\n\u001b[1;32m    785\u001b[0m             \u001b[0;32melse\u001b[0m\u001b[0;34m:\u001b[0m\u001b[0;34m\u001b[0m\u001b[0;34m\u001b[0m\u001b[0m\n\u001b[0;32m--> 786\u001b[0;31m                 \u001b[0;32mraise\u001b[0m \u001b[0mKeyError\u001b[0m\u001b[0;34m(\u001b[0m\u001b[0mgpr\u001b[0m\u001b[0;34m)\u001b[0m\u001b[0;34m\u001b[0m\u001b[0;34m\u001b[0m\u001b[0m\n\u001b[0m\u001b[1;32m    787\u001b[0m         \u001b[0;32melif\u001b[0m \u001b[0misinstance\u001b[0m\u001b[0;34m(\u001b[0m\u001b[0mgpr\u001b[0m\u001b[0;34m,\u001b[0m \u001b[0mGrouper\u001b[0m\u001b[0;34m)\u001b[0m \u001b[0;32mand\u001b[0m \u001b[0mgpr\u001b[0m\u001b[0;34m.\u001b[0m\u001b[0mkey\u001b[0m \u001b[0;32mis\u001b[0m \u001b[0;32mnot\u001b[0m \u001b[0;32mNone\u001b[0m\u001b[0;34m:\u001b[0m\u001b[0;34m\u001b[0m\u001b[0;34m\u001b[0m\u001b[0m\n\u001b[1;32m    788\u001b[0m             \u001b[0;31m# Add key to exclusions\u001b[0m\u001b[0;34m\u001b[0m\u001b[0;34m\u001b[0m\u001b[0;34m\u001b[0m\u001b[0m\n",
            "\u001b[0;31mKeyError\u001b[0m: 'cast_1'"
          ]
        }
      ]
    },
    {
      "cell_type": "markdown",
      "metadata": {
        "id": "4ymnxEVoVqAW"
      },
      "source": [
        "ВАРИАНТ 2"
      ]
    },
    {
      "cell_type": "raw",
      "metadata": {
        "id": "a28pVTAq1Ce9"
      },
      "source": [
        ""
      ]
    },
    {
      "cell_type": "code",
      "metadata": {
        "id": "RyHdy4G51Ce-"
      },
      "source": [
        "answers['27'] = 'No answer'"
      ],
      "execution_count": 83,
      "outputs": []
    },
    {
      "cell_type": "markdown",
      "metadata": {
        "id": "U0nONFnGVqAX"
      },
      "source": [
        "# Submission"
      ]
    },
    {
      "cell_type": "code",
      "metadata": {
        "colab": {
          "base_uri": "https://localhost:8080/"
        },
        "id": "IfcaRO9-VqAX",
        "outputId": "b857b57a-f09e-4385-d83c-8df72168d7a6"
      },
      "source": [
        "# в конце можно посмотреть свои ответы к каждому вопросу\n",
        "answers"
      ],
      "execution_count": 84,
      "outputs": [
        {
          "output_type": "execute_result",
          "data": {
            "text/plain": [
              "{'1': 'Pirates of the Caribbean: On Stranger Tides',\n",
              " '10': 'The Lone Ranger',\n",
              " '11': 'Drama',\n",
              " '12': 'Drama',\n",
              " '13': 'Peter Jackson',\n",
              " '14': 'Robert Rodriguez',\n",
              " '15': 'Chris Hemsworth',\n",
              " '16': 'Matt Damon',\n",
              " '17': 'Action',\n",
              " '18': 'K-19: The Widowmaker',\n",
              " '19': 2015,\n",
              " '2': 'Gods and Generals',\n",
              " '20': 2014,\n",
              " '21': 'Сентябрь',\n",
              " '22': 450,\n",
              " '23': 'Peter Jackson',\n",
              " '24': 'Four By Two Productions',\n",
              " '25': 'Midnight Picture Show',\n",
              " '26': 'Inside Out, The Dark Knight, 12 Years a Slave',\n",
              " '27': 'No answer',\n",
              " '3': 'Winnie the Pooh',\n",
              " '4': '110',\n",
              " '5': '107',\n",
              " '6': 'Avatar',\n",
              " '7': 'The Lone Ranger',\n",
              " '8': 1478,\n",
              " '9': 'The Dark Knight'}"
            ]
          },
          "metadata": {
            "tags": []
          },
          "execution_count": 84
        }
      ]
    },
    {
      "cell_type": "code",
      "metadata": {
        "colab": {
          "base_uri": "https://localhost:8080/"
        },
        "id": "SiRmHPl8VqAd",
        "outputId": "d15364dd-b7d3-40b0-d07e-5f1f093effb3"
      },
      "source": [
        "# и убедиться что ни чего не пропустил)\n",
        "len(answers)"
      ],
      "execution_count": 85,
      "outputs": [
        {
          "output_type": "execute_result",
          "data": {
            "text/plain": [
              "27"
            ]
          },
          "metadata": {
            "tags": []
          },
          "execution_count": 85
        }
      ]
    }
  ]
}